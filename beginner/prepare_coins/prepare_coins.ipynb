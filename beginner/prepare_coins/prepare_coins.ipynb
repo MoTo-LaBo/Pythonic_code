{
 "cells": [
  {
   "cell_type": "markdown",
   "metadata": {},
   "source": [
    "# Prepare Coins (利用硬貨の最適化)\n",
    "- [貪欲法](https://ja.wikipedia.org/wiki/%E8%B2%AA%E6%AC%B2%E6%B3%95) (greedy algorithm)\n",
    "\n",
    "  - 「全体のことはあとまわしにして、その時々で最適なものを選択していく」\n",
    "\n",
    "## Prepare Coins\n",
    "- 1000円以内の金額を入力\n",
    "- 「 **500 円、100 円、50 円、10 円、5 円、1 円** 」を利用して最も少ない枚数でその金額を用意したときの硬貨の枚数を出力する\n"
   ]
  },
  {
   "cell_type": "markdown",
   "metadata": {},
   "source": []
  },
  {
   "cell_type": "code",
   "execution_count": 1,
   "metadata": {},
   "outputs": [],
   "source": [
    "def coin_num(price: int):\n",
    "    \n",
    "    coins = [500, 100, 50, 10, 5, 1]\n",
    "    count = 0\n",
    "\n",
    "    for pay in coins:\n",
    "        coin_num, price = divmod(price, pay)\n",
    "        \n",
    "        if price >= 0:\n",
    "            count += coin_num\n",
    "\n",
    "    return count"
   ]
  },
  {
   "cell_type": "code",
   "execution_count": 4,
   "metadata": {},
   "outputs": [
    {
     "data": {
      "text/plain": [
       "7"
      ]
     },
     "execution_count": 4,
     "metadata": {},
     "output_type": "execute_result"
    }
   ],
   "source": [
    "coin_num(524)"
   ]
  },
  {
   "cell_type": "code",
   "execution_count": 5,
   "metadata": {},
   "outputs": [
    {
     "name": "stdout",
     "output_type": "stream",
     "text": [
      "<class 'int'>\n"
     ]
    }
   ],
   "source": [
    "price = 111\n",
    "coins = [500, 100, 50, 10, 5, 1]\n",
    "count = 0\n",
    "\n",
    "for pay in coins:\n",
    "    coin_num, price = divmod(price, pay)\n",
    "    \n",
    "    if price >= 0:\n",
    "        count += coin_num\n",
    "\n",
    "print(type(count))"
   ]
  },
  {
   "cell_type": "code",
   "execution_count": null,
   "metadata": {},
   "outputs": [],
   "source": []
  }
 ],
 "metadata": {
  "interpreter": {
   "hash": "47dc47d103da982b1e933b8923cef8f585032c2b65a4949907fb888f13080055"
  },
  "kernelspec": {
   "display_name": "Python 3.10.0 64-bit ('venv': venv)",
   "language": "python",
   "name": "python3"
  },
  "language_info": {
   "codemirror_mode": {
    "name": "ipython",
    "version": 3
   },
   "file_extension": ".py",
   "mimetype": "text/x-python",
   "name": "python",
   "nbconvert_exporter": "python",
   "pygments_lexer": "ipython3",
   "version": "3.10.0"
  },
  "orig_nbformat": 4
 },
 "nbformat": 4,
 "nbformat_minor": 2
}
