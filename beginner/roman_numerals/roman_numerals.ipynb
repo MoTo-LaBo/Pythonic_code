{
 "cells": [
  {
   "cell_type": "markdown",
   "metadata": {},
   "source": [
    "# Roman Numerals"
   ]
  },
  {
   "cell_type": "markdown",
   "metadata": {},
   "source": [
    "- アラビア数字をローマ数字に変換"
   ]
  },
  {
   "cell_type": "code",
   "execution_count": 4,
   "metadata": {},
   "outputs": [
    {
     "name": "stdout",
     "output_type": "stream",
     "text": [
      "Arabic: 1000\n",
      "roman: M\n",
      "Arabic: 500\n",
      "roman: D\n",
      "Arabic: 400\n",
      "roman: CD\n",
      "Arabic: 900\n",
      "roman: CM\n",
      "Arabic: 100\n",
      "roman: C\n",
      "Arabic: 90\n",
      "roman: XC\n",
      "Arabic: 50\n",
      "roman: L\n",
      "Arabic: 40\n",
      "roman: XL\n",
      "Arabic: 10\n",
      "roman: X\n",
      "Arabic: 9\n",
      "roman: IX\n",
      "Arabic: 5\n",
      "roman: V\n",
      "Arabic: 4\n",
      "roman: IV\n",
      "Arabic: 1\n",
      "roman: I\n"
     ]
    }
   ],
   "source": [
    "numerical_value = {\n",
    "    1000: 'M',\n",
    "    500: 'D',\n",
    "    400 : 'CD',\n",
    "    900 : 'CM',\n",
    "    100 : 'C',\n",
    "    90  : 'XC',\n",
    "    50  : 'L',\n",
    "    40  : 'XL',\n",
    "    10  : 'X',\n",
    "    9   : 'IX',\n",
    "    5   : 'V',\n",
    "    4   : 'IV',\n",
    "    1   : 'I'\n",
    "}\n",
    "for a_num, r_num in numerical_value.items():\n",
    "    print(f'Arabic: {a_num}\\nroman: {r_num}')"
   ]
  },
  {
   "cell_type": "code",
   "execution_count": 53,
   "metadata": {},
   "outputs": [],
   "source": [
    "numerical_value = {\n",
    "    1000: 'M',\n",
    "    900 : 'CM',\n",
    "    500: 'D',\n",
    "    400 : 'CD',\n",
    "    100 : 'C',\n",
    "    90  : 'XC',\n",
    "    50  : 'L',\n",
    "    40  : 'XL',\n",
    "    10  : 'X',\n",
    "    9   : 'IX',\n",
    "    5   : 'V',\n",
    "    4   : 'IV',\n",
    "    1   : 'I'\n",
    "}\n",
    "\n",
    "\n",
    "def convert_to_roman(num):\n",
    "    roman_list = []\n",
    "    for a_num, r_num in numerical_value.items():\n",
    "        i, j = divmod(num, a_num)\n",
    "        if i == 1:\n",
    "            roman_list.append(r_num)\n",
    "        else:\n",
    "            continue\n",
    "\n",
    "    return roman_list"
   ]
  },
  {
   "cell_type": "code",
   "execution_count": 54,
   "metadata": {},
   "outputs": [
    {
     "data": {
      "text/plain": [
       "['C', 'XC']"
      ]
     },
     "execution_count": 54,
     "metadata": {},
     "output_type": "execute_result"
    }
   ],
   "source": [
    "convert_to_roman(150)"
   ]
  },
  {
   "cell_type": "code",
   "execution_count": 80,
   "metadata": {},
   "outputs": [
    {
     "name": "stdout",
     "output_type": "stream",
     "text": [
      "0 940 M 1000\n",
      "1 40 CM 900\n",
      "0 40 D 500\n",
      "0 40 CD 400\n",
      "0 40 C 100\n",
      "0 40 XC 90\n",
      "0 40 L 50\n",
      "1 0 XL 40\n",
      "0 0 X 10\n",
      "0 0 IX 9\n",
      "0 0 V 5\n",
      "0 0 IV 4\n",
      "0 0 I 1\n"
     ]
    }
   ],
   "source": [
    "num = 940\n",
    "roman_list = []\n",
    "for a_num, r_num in numerical_value.items():\n",
    "    i, num = divmod(num, a_num)\n",
    "    print(i, num, r_num, a_num)"
   ]
  },
  {
   "cell_type": "code",
   "execution_count": 79,
   "metadata": {},
   "outputs": [
    {
     "name": "stdout",
     "output_type": "stream",
     "text": [
      "CMXL\n"
     ]
    }
   ],
   "source": [
    "num = 940\n",
    "roman_list = []\n",
    "for a_num, r_num in numerical_value.items():\n",
    "    i, num = divmod(num, a_num)\n",
    "    if i != 0:\n",
    "        roman_list.append(r_num * i)\n",
    "    elif num == 0:\n",
    "        break\n",
    "print(''.join(roman_list))"
   ]
  },
  {
   "cell_type": "code",
   "execution_count": 81,
   "metadata": {},
   "outputs": [],
   "source": [
    "numerical_value = {\n",
    "    1000: 'M',\n",
    "    900 : 'CM',\n",
    "    500: 'D',\n",
    "    400 : 'CD',\n",
    "    100 : 'C',\n",
    "    90  : 'XC',\n",
    "    50  : 'L',\n",
    "    40  : 'XL',\n",
    "    10  : 'X',\n",
    "    9   : 'IX',\n",
    "    5   : 'V',\n",
    "    4   : 'IV',\n",
    "    1   : 'I'\n",
    "}\n",
    "\n",
    "\n",
    "def convert_to_roman(num):\n",
    "    roman_list = []\n",
    "    for a_num, r_num in numerical_value.items():\n",
    "        i, num = divmod(num, a_num)\n",
    "        if i != 0:\n",
    "            roman_list.append(r_num * i)\n",
    "        elif num == 0:\n",
    "            break\n",
    "    return ''.join(roman_list)\n",
    "\n"
   ]
  },
  {
   "cell_type": "code",
   "execution_count": 82,
   "metadata": {},
   "outputs": [
    {
     "data": {
      "text/plain": [
       "'CMXL'"
      ]
     },
     "execution_count": 82,
     "metadata": {},
     "output_type": "execute_result"
    }
   ],
   "source": [
    "convert_to_roman()"
   ]
  },
  {
   "cell_type": "code",
   "execution_count": 97,
   "metadata": {},
   "outputs": [
    {
     "name": "stdout",
     "output_type": "stream",
     "text": [
      "\n",
      "5000は値の範囲以外です\n",
      " 1 ~ 3999以下の自然数ので入力して下さい\n",
      "\n",
      "入力された値は >> fek84 << です。\n",
      "1 ~ 3999以下の自然数を入力してください\n",
      "\n",
      "入力された値は >> 0.004 << です。\n",
      "1 ~ 3999以下の自然数を入力してください\n",
      "\n",
      "Arabic Number : 324\n",
      "Roman Numerals: CCCXXIV\n"
     ]
    }
   ],
   "source": [
    "while True:\n",
    "    input_value = input('1 ~ 3999以下の自然数を入力してください >>> ')\n",
    "    # 入力された値(string) が数値かどうか判定　ー＞ int(integer)型へ\n",
    "    if input_value.isdecimal():\n",
    "        i_num = int(input_value)\n",
    "\n",
    "        # 判定後の処理　-> 正常な入力値か？の振り分け 1 ~ 3999 の領域を指定\n",
    "        if 1 <= i_num <= 3999:\n",
    "            # Roman Numerals に変換\n",
    "            print(f'\\nArabic Number : {i_num}\\nRoman Numerals: {convert_to_roman(i_num)}')\n",
    "            break\n",
    "\n",
    "        # 1 ~ 3999 の領域を外れた場合の処理, その他例外全て\n",
    "        else:\n",
    "            print(f'\\n{i_num}は値の範囲以外です\\n 1 ~ 3999以下の自然数ので入力して下さい')\n",
    "            continue\n",
    "\n",
    "    # 数字以外だった場合 & float(小数)の判定 -> float(小数)だった場合の処理\n",
    "    elif not input_value.isdecimal():\n",
    "        try:\n",
    "            f_num = float(input_value)\n",
    "            print(f'\\n入力された値は >> {f_num} << です。\\n1 ~ 3999以下の自然数を入力してください')\n",
    "            continue\n",
    "\n",
    "        except ValueError:\n",
    "            print(f'\\n入力された値は >> {input_value} << です。\\n1 ~ 3999以下の自然数を入力してください')\n",
    "    \n",
    "    # その他の例外処理\n",
    "    else:\n",
    "        print(f'\\n入力された値は >> {input_value} << です。\\n1 ~ 3999以下の自然数を入力してください')\n",
    "        continue    "
   ]
  },
  {
   "cell_type": "code",
   "execution_count": null,
   "metadata": {},
   "outputs": [],
   "source": []
  }
 ],
 "metadata": {
  "interpreter": {
   "hash": "47dc47d103da982b1e933b8923cef8f585032c2b65a4949907fb888f13080055"
  },
  "kernelspec": {
   "display_name": "Python 3.10.0 64-bit ('venv': venv)",
   "name": "python3"
  },
  "language_info": {
   "codemirror_mode": {
    "name": "ipython",
    "version": 3
   },
   "file_extension": ".py",
   "mimetype": "text/x-python",
   "name": "python",
   "nbconvert_exporter": "python",
   "pygments_lexer": "ipython3",
   "version": "3.10.0"
  },
  "orig_nbformat": 4
 },
 "nbformat": 4,
 "nbformat_minor": 2
}
