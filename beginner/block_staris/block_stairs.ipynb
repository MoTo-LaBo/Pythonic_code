{
 "cells": [
  {
   "cell_type": "markdown",
   "metadata": {},
   "source": [
    "# Stairs with blocks (ブロック階段)\n",
    "\n",
    "- $1 \\leq n \\leq 10 \\times 10$ までの自然数を入力すると、成立する階段の段数を出力する\n",
    "\n",
    "\n",
    "### 今回の課題は、ブロックで階段を作る\n",
    "\n",
    "□  \n",
    "□□  \n",
    "□□□  \n",
    "\n",
    " - ↑こんな四角"
   ]
  },
  {
   "cell_type": "code",
   "execution_count": 1,
   "metadata": {},
   "outputs": [],
   "source": [
    "def block_stairs(n):\n",
    "    if 1 <= n <= 10 ** 10:\n",
    "        print(\"階段\")\n",
    "        print(\"□\")\n",
    "    else:\n",
    "        print(\"範囲外\")\n",
    "\n",
    "    return\n"
   ]
  },
  {
   "cell_type": "code",
   "execution_count": 2,
   "metadata": {},
   "outputs": [
    {
     "name": "stdout",
     "output_type": "stream",
     "text": [
      "10000000000\n"
     ]
    }
   ],
   "source": [
    "x = 10**10\n",
    "print(x)"
   ]
  },
  {
   "cell_type": "code",
   "execution_count": 3,
   "metadata": {},
   "outputs": [
    {
     "name": "stdout",
     "output_type": "stream",
     "text": [
      "階段\n",
      "□\n"
     ]
    }
   ],
   "source": [
    "block_stairs(3)"
   ]
  },
  {
   "cell_type": "markdown",
   "metadata": {},
   "source": [
    "### 総和の算出 algorithm\n",
    "    ```\n",
    "    calculation( )\n",
    "    \n",
    "    1 + 2 + 3 + 4 + 5 + 6 + 7 + 8 ... 20 = ???\n",
    "    ```\n",
    "    を `20` を入れるだけ `1 ~ 20` までの総和を算出してくれる"
   ]
  },
  {
   "cell_type": "code",
   "execution_count": 26,
   "metadata": {},
   "outputs": [],
   "source": [
    "def sum_total(num: int):\n",
    "    if num % 2 == 0:\n",
    "        odd = (num / 2) * (num + 1)\n",
    "        return int(odd)\n",
    "    else:\n",
    "        even = ((num + 1) / 2) * num\n",
    "        return int(even)"
   ]
  },
  {
   "cell_type": "code",
   "execution_count": 46,
   "metadata": {},
   "outputs": [
    {
     "data": {
      "text/plain": [
       "10"
      ]
     },
     "execution_count": 46,
     "metadata": {},
     "output_type": "execute_result"
    }
   ],
   "source": [
    "sum_total(4)"
   ]
  },
  {
   "cell_type": "code",
   "execution_count": 6,
   "metadata": {},
   "outputs": [
    {
     "name": "stdout",
     "output_type": "stream",
     "text": [
      "[1, 2, 3, 4, 5, 6, 7, 8, 9, 10, 11, 12, 13, 14, 15, 16, 17, 18, 19, 20]\n"
     ]
    }
   ],
   "source": [
    "list1 = []\n",
    "for i in range(1, 21):\n",
    "    list1.append(i)\n",
    "print(list1)"
   ]
  },
  {
   "cell_type": "code",
   "execution_count": 7,
   "metadata": {},
   "outputs": [
    {
     "name": "stdout",
     "output_type": "stream",
     "text": [
      "210\n"
     ]
    }
   ],
   "source": [
    "print(sum(list1))"
   ]
  },
  {
   "cell_type": "code",
   "execution_count": 9,
   "metadata": {},
   "outputs": [
    {
     "name": "stdout",
     "output_type": "stream",
     "text": [
      "1\n",
      "2\n",
      "3\n"
     ]
    }
   ],
   "source": [
    "for i in range(1, 4):\n",
    "    print(i)"
   ]
  },
  {
   "cell_type": "code",
   "execution_count": 8,
   "metadata": {},
   "outputs": [
    {
     "name": "stdout",
     "output_type": "stream",
     "text": [
      "1 : □\n",
      "2 : □□\n",
      "3 : □□□\n"
     ]
    }
   ],
   "source": [
    "n = 8\n",
    "list2 = []\n",
    "\n",
    "for i in range(1, n):\n",
    "    n = n - i \n",
    "    if n >= 0:\n",
    "        list2 = (i * \"□\")\n",
    "        print(f'{i} : {list2}')\n",
    "    else:\n",
    "        break"
   ]
  },
  {
   "cell_type": "code",
   "execution_count": 188,
   "metadata": {},
   "outputs": [
    {
     "name": "stdout",
     "output_type": "stream",
     "text": [
      "1 : □\n"
     ]
    }
   ],
   "source": [
    "n = 2\n",
    "staris = ''\n",
    "\n",
    "if n == 1:\n",
    "    n = n + 1\n",
    "\n",
    "for i in range(1, n):\n",
    "    n = n - i \n",
    "    if n >= 0:\n",
    "        staris = (i * \"□\")\n",
    "        print(f'{i} : {staris}')\n",
    "    else:\n",
    "        break"
   ]
  },
  {
   "cell_type": "code",
   "execution_count": 37,
   "metadata": {},
   "outputs": [],
   "source": [
    "n = 15"
   ]
  },
  {
   "cell_type": "markdown",
   "metadata": {},
   "source": [
    "| 段数 | 総数  | 階段の末尾 |\n",
    "| :-: | :-: | :-: |\n",
    "| 1   | 1   | ●   |\n",
    "| 2   | 3   |     |\n",
    "| 3   | 6   | ●   |\n",
    "| 4   | 10  |     |\n",
    "| 5   | 15  |     |\n",
    "| 6   | 21  | ●   |\n",
    "| 7   | 28  |     |\n",
    "| 8   | 36  |     |\n",
    "| 9   | 45  |     |\n",
    "| 10  | 55  | ●   |\n",
    "| 11  | 66  |     |\n",
    "| 12  | 78  |     |\n",
    "| 13  | 91  |     |\n",
    "| 14  | 105 |     |\n",
    "| 15  | 120 | ●   |\n"
   ]
  },
  {
   "cell_type": "code",
   "execution_count": 34,
   "metadata": {},
   "outputs": [
    {
     "data": {
      "text/plain": [
       "91"
      ]
     },
     "execution_count": 34,
     "metadata": {},
     "output_type": "execute_result"
    }
   ],
   "source": [
    "n = 13\n",
    "num1 = sum_total(n)\n",
    "num1"
   ]
  },
  {
   "cell_type": "code",
   "execution_count": 6,
   "metadata": {},
   "outputs": [],
   "source": [
    "n2 = 3"
   ]
  },
  {
   "cell_type": "code",
   "execution_count": 7,
   "metadata": {},
   "outputs": [
    {
     "data": {
      "text/plain": [
       "3"
      ]
     },
     "execution_count": 7,
     "metadata": {},
     "output_type": "execute_result"
    }
   ],
   "source": [
    "odd = sum_total(n2)\n",
    "num2 = odd - n2\n",
    "num2"
   ]
  },
  {
   "cell_type": "code",
   "execution_count": 126,
   "metadata": {},
   "outputs": [
    {
     "name": "stdout",
     "output_type": "stream",
     "text": [
      "14: 1 : □\n",
      "12: 2 : □□\n",
      "9: 3 : □□□\n",
      "5: 4 : □□□□\n",
      "0: 5 : □□□□□\n"
     ]
    }
   ],
   "source": [
    "staris = ''\n",
    "\n",
    "for i in range(1, n):\n",
    "    nums = n -(sum_total(i))\n",
    "    if nums >= 0:\n",
    "        staris = i * \"□\"\n",
    "        print(f'{nums}: {i} : {staris}')\n",
    "    else:\n",
    "        break\n"
   ]
  },
  {
   "cell_type": "code",
   "execution_count": 157,
   "metadata": {},
   "outputs": [],
   "source": [
    "def block_stairs(num):\n",
    "\n",
    "    block = ''\n",
    "    count = 0\n",
    "\n",
    "    # 1<= n <= 10*10 判定\n",
    "    if 1 <= num <= 10 ** 10:\n",
    "\n",
    "        # range 1 ~ 入力値分回す\n",
    "        for i in range(1, num):\n",
    "\n",
    "            # i の総和を求めて, 入力値から i の総和を引く(num の値が引けなくなるまで loop)\n",
    "            n = num -(sum_total(i))\n",
    "\n",
    "            # 総和を引いた値 n の値で階段を出力範囲を判定\n",
    "            if n >= 0:\n",
    "                count = i\n",
    "                block = i * \"□\"\n",
    "                print(f'{block}')\n",
    "            # num (入力値) が引けなくなった時点で終了\n",
    "            else:\n",
    "                break\n",
    "    else:\n",
    "        print(\"入力値が範囲外です\\n\")\n",
    "        \n",
    "    return count\n",
    "\n"
   ]
  },
  {
   "cell_type": "code",
   "execution_count": 159,
   "metadata": {},
   "outputs": [
    {
     "name": "stdout",
     "output_type": "stream",
     "text": [
      "□\n",
      "□□\n",
      "□□□\n",
      "□□□□\n",
      "□□□□□\n",
      "□□□□□□\n",
      "□□□□□□□\n",
      "□□□□□□□□\n",
      "□□□□□□□□□\n",
      "□□□□□□□□□□\n",
      "□□□□□□□□□□□\n",
      "□□□□□□□□□□□□\n",
      "□□□□□□□□□□□□□\n",
      "□□□□□□□□□□□□□□\n",
      "□□□□□□□□□□□□□□□\n",
      "□□□□□□□□□□□□□□□□\n",
      "□□□□□□□□□□□□□□□□□\n",
      "□□□□□□□□□□□□□□□□□□\n",
      "□□□□□□□□□□□□□□□□□□□\n",
      "19\n"
     ]
    }
   ],
   "source": [
    "print(block_stairs(200))"
   ]
  },
  {
   "cell_type": "code",
   "execution_count": 160,
   "metadata": {},
   "outputs": [
    {
     "name": "stdout",
     "output_type": "stream",
     "text": [
      "19\n"
     ]
    }
   ],
   "source": [
    "\n",
    "def block_stairs(n):\n",
    "    \"\"\"\n",
    "    Output number of block stairs \n",
    "    \"\"\"\n",
    "    stair_block = 0\n",
    "    total_block = 0\n",
    "\n",
    "    while total_block <= n:\n",
    "        # 1段あたりのブロック数\n",
    "        stair_block += 1\n",
    "\n",
    "        # 合計のブロック数\n",
    "        total_block += stair_block\n",
    "\n",
    "    # whileループ数より1小さい値が階数と一致    \n",
    "    return stair_block - 1\n",
    "\n",
    "\n",
    "print(block_stairs(200))"
   ]
  },
  {
   "cell_type": "code",
   "execution_count": 183,
   "metadata": {},
   "outputs": [],
   "source": [
    "def block_stairs1(n):\n",
    "\n",
    "    # 1<= n <= 10*10 判定\n",
    "    if 1 <= n <= 10 ** 10:\n",
    "\n",
    "        # block と count\n",
    "        block = ''\n",
    "        count = 0\n",
    "\n",
    "        for i in range(1, n):\n",
    "\n",
    "            n = n - i \n",
    "\n",
    "            if n >= 0:\n",
    "                count = i\n",
    "                block = (i * \"□\")\n",
    "                print(f'{i} : {block}')\n",
    "\n",
    "            else:\n",
    "                break\n",
    "\n",
    "    else:\n",
    "        print(\"入力値が範囲外です\\n\")\n",
    "            \n",
    "    return print(f'steps: {count}')"
   ]
  },
  {
   "cell_type": "code",
   "execution_count": 184,
   "metadata": {},
   "outputs": [
    {
     "name": "stdout",
     "output_type": "stream",
     "text": [
      "1 : □\n",
      "2 : □□\n",
      "3 : □□□\n",
      "4 : □□□□\n",
      "steps: 4\n"
     ]
    }
   ],
   "source": [
    "block_stairs1(10)"
   ]
  },
  {
   "cell_type": "markdown",
   "metadata": {},
   "source": [
    "# block_staris algorithm 修正\n",
    "\n",
    "### 今回の課題は、ブロックで階段を作る\n",
    "\n",
    "□  \n",
    "□□  \n",
    "□□□  \n",
    "\n",
    " - ↑こんな四角"
   ]
  },
  {
   "cell_type": "code",
   "execution_count": 40,
   "metadata": {},
   "outputs": [
    {
     "name": "stdout",
     "output_type": "stream",
     "text": [
      "□\n",
      "□□\n",
      "□□□\n",
      "□□□□\n",
      "□□□□□\n",
      "6\n"
     ]
    }
   ],
   "source": [
    "num = 15\n",
    "block = '□'\n",
    "stairs = 1\n",
    "total = 1\n",
    "inupt_num = 0\n",
    "inupt_num = num \n",
    "\n",
    "while total <= inupt_num:\n",
    "\n",
    "    print(block)\n",
    "    stairs += 1\n",
    "    block += '□'\n",
    "\n",
    "    total = sum_total(stairs)\n",
    "\n",
    "else:\n",
    "    print(stairs)\n"
   ]
  },
  {
   "cell_type": "code",
   "execution_count": 47,
   "metadata": {},
   "outputs": [],
   "source": [
    "def block_stairs2(num):\n",
    "\n",
    "    block = '□'\n",
    "    stairs = 1\n",
    "    total = 1\n",
    "    inupt_num = num \n",
    "\n",
    "\n",
    "    # 1<= n <= 10*10 判定\n",
    "    if 1 <= num <= 10 ** 10:\n",
    "        \n",
    "        while total <= inupt_num:\n",
    "\n",
    "            print(block)\n",
    "            stairs += 1\n",
    "            block += '□'\n",
    "            total = sum_total(stairs)\n",
    "\n",
    "        else:\n",
    "            print(stairs)\n",
    "        \n",
    "    else:\n",
    "        return"
   ]
  },
  {
   "cell_type": "code",
   "execution_count": 90,
   "metadata": {},
   "outputs": [
    {
     "name": "stdout",
     "output_type": "stream",
     "text": [
      "□\n",
      "□□\n",
      "□□□\n",
      "□□□□\n",
      "□□□□□\n",
      "□□□□□□\n",
      "□□□□□□□\n",
      "8\n"
     ]
    }
   ],
   "source": [
    "block_stairs2(34)"
   ]
  },
  {
   "cell_type": "markdown",
   "metadata": {},
   "source": [
    "# 等差数列 version\n",
    "\n",
    "$$\n",
    "\\begin{aligned}\n",
    "S_n　=　等数列和 \\\\\n",
    "\\\\\n",
    "a_1　=　初項 \\\\\n",
    "\\\\\n",
    "a_n　=　終わりの数 \\\\\n",
    "\\\\\n",
    "n　=　個数 \\\\\n",
    "\\\\\n",
    "\\end{aligned}\n",
    "$$\n",
    "\n",
    "$$\n",
    "S_n = \\frac{1}{2}(a_1 + a_n)n\n",
    "$$"
   ]
  },
  {
   "cell_type": "code",
   "execution_count": 110,
   "metadata": {},
   "outputs": [],
   "source": [
    "def block_stairs3(num: int):\n",
    "\n",
    "    staris = 0\n",
    "    block = 1\n",
    "\n",
    "    while block <= num:\n",
    "\n",
    "        staris += 1\n",
    "        block = (staris * (staris + 1)) / 2\n",
    "        \n",
    "    else:\n",
    "        return staris\n",
    "            "
   ]
  },
  {
   "cell_type": "code",
   "execution_count": 114,
   "metadata": {},
   "outputs": [
    {
     "data": {
      "text/plain": [
       "4"
      ]
     },
     "execution_count": 114,
     "metadata": {},
     "output_type": "execute_result"
    }
   ],
   "source": [
    "block_stairs3(7)"
   ]
  },
  {
   "cell_type": "code",
   "execution_count": null,
   "metadata": {},
   "outputs": [],
   "source": []
  }
 ],
 "metadata": {
  "interpreter": {
   "hash": "47dc47d103da982b1e933b8923cef8f585032c2b65a4949907fb888f13080055"
  },
  "kernelspec": {
   "display_name": "Python 3.10.0 64-bit ('venv': venv)",
   "name": "python3"
  },
  "language_info": {
   "codemirror_mode": {
    "name": "ipython",
    "version": 3
   },
   "file_extension": ".py",
   "mimetype": "text/x-python",
   "name": "python",
   "nbconvert_exporter": "python",
   "pygments_lexer": "ipython3",
   "version": "3.10.0"
  },
  "orig_nbformat": 4
 },
 "nbformat": 4,
 "nbformat_minor": 2
}
