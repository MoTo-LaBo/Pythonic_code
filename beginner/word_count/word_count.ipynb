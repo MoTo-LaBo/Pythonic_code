{
 "cells": [
  {
   "cell_type": "markdown",
   "metadata": {},
   "source": [
    "# Word Count (単語 count)\n",
    "- text file を読み込んでその中にある単語を判別\n",
    "- 単語と出現回数を取得"
   ]
  },
  {
   "cell_type": "code",
   "execution_count": 1,
   "metadata": {},
   "outputs": [
    {
     "name": "stdout",
     "output_type": "stream",
     "text": [
      "<_io.TextIOWrapper name='turtle.txt' mode='r' encoding='UTF-8'>\n"
     ]
    }
   ],
   "source": [
    "f = open(\"turtle.txt\")\n",
    "print(f)"
   ]
  },
  {
   "cell_type": "code",
   "execution_count": 2,
   "metadata": {},
   "outputs": [
    {
     "name": "stdout",
     "output_type": "stream",
     "text": [
      "Turtles are reptiles of the order Testudines. They are characterized by a special bony or cartilaginous shell developed from their ribs that acts as a shield. \"Turtle\" may refer to the order as a whole (American English) or to fresh-water and sea-dwelling Testudines (British English). Testudines includes both extant (living) and extinct species. Its earliest known members date from the Middle Jurassic. Turtles are one of the oldest reptile groups, more ancient than snakes or crocodilians. Of the 360 known extant species, some are highly endangered.\n",
      "\n",
      "Turtles are ectotherms—commonly called cold-blooded—meaning that their internal temperature varies according to the ambient environment. However, because of their high metabolic rate, leatherback sea turtles have a body temperature that is noticeably higher than that of the surrounding water. Turtles are classified as amniotes, along with other reptiles, birds, and mammals. Like other amniotes, turtles breathe air and do not lay eggs underwater, although many species live in or around water. \n"
     ]
    }
   ],
   "source": [
    "for line in f:\n",
    "    print(line)"
   ]
  },
  {
   "cell_type": "code",
   "execution_count": 3,
   "metadata": {},
   "outputs": [],
   "source": [
    "f.close()"
   ]
  },
  {
   "cell_type": "code",
   "execution_count": 4,
   "metadata": {},
   "outputs": [
    {
     "name": "stdout",
     "output_type": "stream",
     "text": [
      "Turtles are reptiles of the order Testudines. They are characterized by a special bony or cartilaginous shell developed from their ribs that acts as a shield. \"Turtle\" may refer to the order as a whole (American English) or to fresh-water and sea-dwelling Testudines (British English). Testudines includes both extant (living) and extinct species. Its earliest known members date from the Middle Jurassic. Turtles are one of the oldest reptile groups, more ancient than snakes or crocodilians. Of the 360 known extant species, some are highly endangered.\n",
      "\n",
      "Turtles are ectotherms—commonly called cold-blooded—meaning that their internal temperature varies according to the ambient environment. However, because of their high metabolic rate, leatherback sea turtles have a body temperature that is noticeably higher than that of the surrounding water. Turtles are classified as amniotes, along with other reptiles, birds, and mammals. Like other amniotes, turtles breathe air and do not lay eggs underwater, although many species live in or around water. \n"
     ]
    }
   ],
   "source": [
    "try:\n",
    "    f = open(\"turtle.txt\")\n",
    "    for line in f:\n",
    "        print(line)\n",
    "finally:\n",
    "    f.close()\n"
   ]
  },
  {
   "cell_type": "markdown",
   "metadata": {},
   "source": [
    "## with statement\n",
    "- *実際は with を使用する*　->　**自動で close( ) してくれる**\n",
    "\n",
    "<center>\n",
    " <h3><u>with statement で覚えてしまってよい</u></h3>\n",
    "</center>"
   ]
  },
  {
   "cell_type": "code",
   "execution_count": 5,
   "metadata": {},
   "outputs": [
    {
     "name": "stdout",
     "output_type": "stream",
     "text": [
      "Turtles are reptiles of the order Testudines. They are characterized by a special bony or cartilaginous shell developed from their ribs that acts as a shield. \"Turtle\" may refer to the order as a whole (American English) or to fresh-water and sea-dwelling Testudines (British English). Testudines includes both extant (living) and extinct species. Its earliest known members date from the Middle Jurassic. Turtles are one of the oldest reptile groups, more ancient than snakes or crocodilians. Of the 360 known extant species, some are highly endangered.\n",
      "Turtles are ectotherms—commonly called cold-blooded—meaning that their internal temperature varies according to the ambient environment. However, because of their high metabolic rate, leatherback sea turtles have a body temperature that is noticeably higher than that of the surrounding water. Turtles are classified as amniotes, along with other reptiles, birds, and mammals. Like other amniotes, turtles breathe air and do not lay eggs underwater, although many species live in or around water. "
     ]
    }
   ],
   "source": [
    "with open(\"turtle.txt\") as f:\n",
    "    for line in f:\n",
    "        print(line, end='')"
   ]
  },
  {
   "cell_type": "code",
   "execution_count": 6,
   "metadata": {},
   "outputs": [
    {
     "name": "stdout",
     "output_type": "stream",
     "text": [
      "Turtles are reptiles of the order Testudines. They are characterized by a special bony or cartilaginous shell developed from their ribs that acts as a shield. \"Turtle\" may refer to the order as a whole (American English) or to fresh-water and sea-dwelling Testudines (British English). Testudines includes both extant (living) and extinct species. Its earliest known members date from the Middle Jurassic. Turtles are one of the oldest reptile groups, more ancient than snakes or crocodilians. Of the 360 known extant species, some are highly endangered.\n",
      "Turtles are ectotherms—commonly called cold-blooded—meaning that their internal temperature varies according to the ambient environment. However, because of their high metabolic rate, leatherback sea turtles have a body temperature that is noticeably higher than that of the surrounding water. Turtles are classified as amniotes, along with other reptiles, birds, and mammals. Like other amniotes, turtles breathe air and do not lay eggs underwater, although many species live in or around water. \n"
     ]
    }
   ],
   "source": [
    "with open('turtle.txt') as word:\n",
    "    word = word.read()\n",
    "    print(word)"
   ]
  },
  {
   "cell_type": "code",
   "execution_count": 7,
   "metadata": {},
   "outputs": [
    {
     "name": "stdout",
     "output_type": "stream",
     "text": [
      "['Turtles are reptiles of the order Testudines. They are characterized by a special bony or cartilaginous shell developed from their ribs that acts as a shield. \"Turtle\" may refer to the order as a whole (American English) or to fresh-water and sea-dwelling Testudines (British English). Testudines includes both extant (living) and extinct species. Its earliest known members date from the Middle Jurassic. Turtles are one of the oldest reptile groups, more ancient than snakes or crocodilians. Of the 360 known extant species, some are highly endangered.\\n', 'Turtles are ectotherms—commonly called cold-blooded—meaning that their internal temperature varies according to the ambient environment. However, because of their high metabolic rate, leatherback sea turtles have a body temperature that is noticeably higher than that of the surrounding water. Turtles are classified as amniotes, along with other reptiles, birds, and mammals. Like other amniotes, turtles breathe air and do not lay eggs underwater, although many species live in or around water. ']\n"
     ]
    }
   ],
   "source": [
    "with open('turtle.txt') as f:\n",
    "    lines = f.readlines()\n",
    "    print(lines)"
   ]
  },
  {
   "cell_type": "code",
   "execution_count": 8,
   "metadata": {},
   "outputs": [],
   "source": [
    "import re"
   ]
  },
  {
   "cell_type": "code",
   "execution_count": 9,
   "metadata": {},
   "outputs": [
    {
     "name": "stdout",
     "output_type": "stream",
     "text": [
      "Turtles are reptiles of the order Testudines. They are characterized by a special bony or cartilaginous shell developed from their ribs that acts as a shield. \"Turtle\" may refer to the order as a whole (American English) or to fresh-water and sea-dwelling Testudines (British English). Testudines includes both extant (living) and extinct species. Its earliest known members date from the Middle Jurassic. Turtles are one of the oldest reptile groups, more ancient than snakes or crocodilians. Of the 360 known extant species, some are highly endangered.\n",
      "Turtles are ectotherms—commonly called cold-blooded—meaning that their internal temperature varies according to the ambient environment. However, because of their high metabolic rate, leatherback sea turtles have a body temperature that is noticeably higher than that of the surrounding water. Turtles are classified as amniotes, along with other reptiles, birds, and mammals. Like other amniotes, turtles breathe air and do not lay eggs underwater, although many species live in or around water. \n"
     ]
    }
   ],
   "source": [
    "with open('turtle.txt') as text:\n",
    "    word = text.read()\n",
    "    print(word)"
   ]
  },
  {
   "cell_type": "code",
   "execution_count": 10,
   "metadata": {},
   "outputs": [
    {
     "name": "stdout",
     "output_type": "stream",
     "text": [
      "['turtles', 'are', 'reptiles', 'of', 'the', 'order', 'testudines', 'they', 'are', 'characterized', 'by', 'a', 'special', 'bony', 'or', 'cartilaginous', 'shell', 'developed', 'from', 'their', 'ribs', 'that', 'acts', 'as', 'a', 'shield', 'turtle', 'may', 'refer', 'to', 'the', 'order', 'as', 'a', 'whole', 'american', 'english', 'or', 'to', 'fresh', 'water', 'and', 'sea', 'dwelling', 'testudines', 'british', 'english', 'testudines', 'includes', 'both', 'extant', 'living', 'and', 'extinct', 'species', 'its', 'earliest', 'known', 'members', 'date', 'from', 'the', 'middle', 'jurassic', 'turtles', 'are', 'one', 'of', 'the', 'oldest', 'reptile', 'groups', 'more', 'ancient', 'than', 'snakes', 'or', 'crocodilians', 'of', 'the', 'known', 'extant', 'species', 'some', 'are', 'highly', 'endangered', 'turtles', 'are', 'ectotherms—commonly', 'called', 'cold', 'blooded—meaning', 'that', 'their', 'internal', 'temperature', 'varies', 'according', 'to', 'the', 'ambient', 'environment', 'however', 'because', 'of', 'their', 'high', 'metabolic', 'rate', 'leatherback', 'sea', 'turtles', 'have', 'a', 'body', 'temperature', 'that', 'is', 'noticeably', 'higher', 'than', 'that', 'of', 'the', 'surrounding', 'water', 'turtles', 'are', 'classified', 'as', 'amniotes', 'along', 'with', 'other', 'reptiles', 'birds', 'and', 'mammals', 'like', 'other', 'amniotes', 'turtles', 'breathe', 'air', 'and', 'do', 'not', 'lay', 'eggs', 'underwater', 'although', 'many', 'species', 'live', 'in', 'or', 'around', 'water']\n"
     ]
    }
   ],
   "source": [
    "clean_w = re.sub(r'[\\t\\n\\r\\[\\]{}!@#$%^&*()-=_+;:~\\'\\\"<>/?,.|]', ' ', word)\n",
    "clean_word = clean_w.lower().split()\n",
    "print(clean_word)"
   ]
  },
  {
   "cell_type": "code",
   "execution_count": 11,
   "metadata": {},
   "outputs": [
    {
     "name": "stdout",
     "output_type": "stream",
     "text": [
      "['turtles', 'are', 'reptiles', 'of', 'the', 'order', 'testudines', 'they', 'are', 'characterized', 'by', 'a', 'special', 'bony', 'or', 'cartilaginous', 'shell', 'developed', 'from', 'their', 'ribs', 'that', 'acts', 'as', 'a', 'shield', 'turtle', 'may', 'refer', 'to', 'the', 'order', 'as', 'a', 'whole', 'american', 'english', 'or', 'to', 'fresh', 'water', 'and', 'sea', 'dwelling', 'testudines', 'british', 'english', 'testudines', 'includes', 'both', 'extant', 'living', 'and', 'extinct', 'species', 'its', 'earliest', 'known', 'members', 'date', 'from', 'the', 'middle', 'jurassic', 'turtles', 'are', 'one', 'of', 'the', 'oldest', 'reptile', 'groups', 'more', 'ancient', 'than', 'snakes', 'or', 'crocodilians', 'of', 'the', '360', 'known', 'extant', 'species', 'some', 'are', 'highly', 'endangered', 'turtles', 'are', 'ectotherms', 'commonly', 'called', 'cold', 'blooded', 'meaning', 'that', 'their', 'internal', 'temperature', 'varies', 'according', 'to', 'the', 'ambient', 'environment', 'however', 'because', 'of', 'their', 'high', 'metabolic', 'rate', 'leatherback', 'sea', 'turtles', 'have', 'a', 'body', 'temperature', 'that', 'is', 'noticeably', 'higher', 'than', 'that', 'of', 'the', 'surrounding', 'water', 'turtles', 'are', 'classified', 'as', 'amniotes', 'along', 'with', 'other', 'reptiles', 'birds', 'and', 'mammals', 'like', 'other', 'amniotes', 'turtles', 'breathe', 'air', 'and', 'do', 'not', 'lay', 'eggs', 'underwater', 'although', 'many', 'species', 'live', 'in', 'or', 'around', 'water']\n"
     ]
    }
   ],
   "source": [
    "with open('turtle.txt') as f:\n",
    "    txt = f.read()\n",
    "    word = re.findall(r'\\w+', txt.lower())\n",
    "    print(word)"
   ]
  },
  {
   "cell_type": "code",
   "execution_count": 12,
   "metadata": {},
   "outputs": [],
   "source": [
    "from collections import Counter"
   ]
  },
  {
   "cell_type": "code",
   "execution_count": 13,
   "metadata": {},
   "outputs": [],
   "source": [
    "file = 'turtle.txt'\n",
    "\n",
    "def word_count(file):\n",
    "    with open(file) as f:\n",
    "        txt = f.read()\n",
    "        word = re.findall(r'\\w+', txt.lower())\n",
    "        words = Counter(word).most_common()\n",
    "        for i in words:\n",
    "            k, v = i\n",
    "            print(f'{k} : {v}')"
   ]
  },
  {
   "cell_type": "code",
   "execution_count": 14,
   "metadata": {},
   "outputs": [
    {
     "name": "stdout",
     "output_type": "stream",
     "text": [
      "the : 7\n",
      "turtles : 6\n",
      "are : 6\n",
      "of : 5\n",
      "a : 4\n",
      "or : 4\n",
      "that : 4\n",
      "and : 4\n",
      "testudines : 3\n",
      "their : 3\n",
      "as : 3\n",
      "to : 3\n",
      "water : 3\n",
      "species : 3\n",
      "reptiles : 2\n",
      "order : 2\n",
      "from : 2\n",
      "english : 2\n",
      "sea : 2\n",
      "extant : 2\n",
      "known : 2\n",
      "than : 2\n",
      "temperature : 2\n",
      "amniotes : 2\n",
      "other : 2\n",
      "they : 1\n",
      "characterized : 1\n",
      "by : 1\n",
      "special : 1\n",
      "bony : 1\n",
      "cartilaginous : 1\n",
      "shell : 1\n",
      "developed : 1\n",
      "ribs : 1\n",
      "acts : 1\n",
      "shield : 1\n",
      "turtle : 1\n",
      "may : 1\n",
      "refer : 1\n",
      "whole : 1\n",
      "american : 1\n",
      "fresh : 1\n",
      "dwelling : 1\n",
      "british : 1\n",
      "includes : 1\n",
      "both : 1\n",
      "living : 1\n",
      "extinct : 1\n",
      "its : 1\n",
      "earliest : 1\n",
      "members : 1\n",
      "date : 1\n",
      "middle : 1\n",
      "jurassic : 1\n",
      "one : 1\n",
      "oldest : 1\n",
      "reptile : 1\n",
      "groups : 1\n",
      "more : 1\n",
      "ancient : 1\n",
      "snakes : 1\n",
      "crocodilians : 1\n",
      "360 : 1\n",
      "some : 1\n",
      "highly : 1\n",
      "endangered : 1\n",
      "ectotherms : 1\n",
      "commonly : 1\n",
      "called : 1\n",
      "cold : 1\n",
      "blooded : 1\n",
      "meaning : 1\n",
      "internal : 1\n",
      "varies : 1\n",
      "according : 1\n",
      "ambient : 1\n",
      "environment : 1\n",
      "however : 1\n",
      "because : 1\n",
      "high : 1\n",
      "metabolic : 1\n",
      "rate : 1\n",
      "leatherback : 1\n",
      "have : 1\n",
      "body : 1\n",
      "is : 1\n",
      "noticeably : 1\n",
      "higher : 1\n",
      "surrounding : 1\n",
      "classified : 1\n",
      "along : 1\n",
      "with : 1\n",
      "birds : 1\n",
      "mammals : 1\n",
      "like : 1\n",
      "breathe : 1\n",
      "air : 1\n",
      "do : 1\n",
      "not : 1\n",
      "lay : 1\n",
      "eggs : 1\n",
      "underwater : 1\n",
      "although : 1\n",
      "many : 1\n",
      "live : 1\n",
      "in : 1\n",
      "around : 1\n"
     ]
    }
   ],
   "source": [
    "word_count(file)"
   ]
  },
  {
   "cell_type": "code",
   "execution_count": 15,
   "metadata": {},
   "outputs": [],
   "source": [
    "input_value = 'turtle.txt'\n",
    "re.fullmatch('\\w+\\.txt$', input_value)"
   ]
  },
  {
   "cell_type": "code",
   "execution_count": 35,
   "metadata": {},
   "outputs": [
    {
     "name": "stdout",
     "output_type": "stream",
     "text": [
      "the : 7\n",
      "turtles : 6\n",
      "are : 6\n",
      "of : 5\n",
      "a : 4\n",
      "or : 4\n",
      "that : 4\n",
      "and : 4\n",
      "testudines : 3\n",
      "their : 3\n",
      "as : 3\n",
      "to : 3\n",
      "water : 3\n",
      "species : 3\n",
      "reptiles : 2\n",
      "order : 2\n",
      "from : 2\n",
      "english : 2\n",
      "sea : 2\n",
      "extant : 2\n",
      "known : 2\n",
      "than : 2\n",
      "temperature : 2\n",
      "amniotes : 2\n",
      "other : 2\n",
      "they : 1\n",
      "characterized : 1\n",
      "by : 1\n",
      "special : 1\n",
      "bony : 1\n",
      "cartilaginous : 1\n",
      "shell : 1\n",
      "developed : 1\n",
      "ribs : 1\n",
      "acts : 1\n",
      "shield : 1\n",
      "turtle : 1\n",
      "may : 1\n",
      "refer : 1\n",
      "whole : 1\n",
      "american : 1\n",
      "fresh : 1\n",
      "dwelling : 1\n",
      "british : 1\n",
      "includes : 1\n",
      "both : 1\n",
      "living : 1\n",
      "extinct : 1\n",
      "its : 1\n",
      "earliest : 1\n",
      "members : 1\n",
      "date : 1\n",
      "middle : 1\n",
      "jurassic : 1\n",
      "one : 1\n",
      "oldest : 1\n",
      "reptile : 1\n",
      "groups : 1\n",
      "more : 1\n",
      "ancient : 1\n",
      "snakes : 1\n",
      "crocodilians : 1\n",
      "360 : 1\n",
      "some : 1\n",
      "highly : 1\n",
      "endangered : 1\n",
      "ectotherms : 1\n",
      "commonly : 1\n",
      "called : 1\n",
      "cold : 1\n",
      "blooded : 1\n",
      "meaning : 1\n",
      "internal : 1\n",
      "varies : 1\n",
      "according : 1\n",
      "ambient : 1\n",
      "environment : 1\n",
      "however : 1\n",
      "because : 1\n",
      "high : 1\n",
      "metabolic : 1\n",
      "rate : 1\n",
      "leatherback : 1\n",
      "have : 1\n",
      "body : 1\n",
      "is : 1\n",
      "noticeably : 1\n",
      "higher : 1\n",
      "surrounding : 1\n",
      "classified : 1\n",
      "along : 1\n",
      "with : 1\n",
      "birds : 1\n",
      "mammals : 1\n",
      "like : 1\n",
      "breathe : 1\n",
      "air : 1\n",
      "do : 1\n",
      "not : 1\n",
      "lay : 1\n",
      "eggs : 1\n",
      "underwater : 1\n",
      "although : 1\n",
      "many : 1\n",
      "live : 1\n",
      "in : 1\n",
      "around : 1\n"
     ]
    }
   ],
   "source": [
    "while True:\n",
    "    input_value = input('file を入力してください(xxx.txt) >>> ')\n",
    "    # 入力された値が適切な file かどうか判定\n",
    "    result = re.fullmatch('\\w+\\.txt$', input_value)\n",
    "    if result:\n",
    "        try:\n",
    "            word_count(input_value)\n",
    "            break\n",
    "        except:\n",
    "            print(f'No such file or directory: {input_value}')\n",
    "    else:\n",
    "        print(f'{input_value}: 入力が正しくありません\\n')\n",
    "        continue"
   ]
  },
  {
   "cell_type": "code",
   "execution_count": 24,
   "metadata": {},
   "outputs": [],
   "source": [
    "import os"
   ]
  },
  {
   "cell_type": "code",
   "execution_count": 34,
   "metadata": {},
   "outputs": [
    {
     "name": "stdout",
     "output_type": "stream",
     "text": [
      "the : 7\n",
      "turtles : 6\n",
      "are : 6\n",
      "of : 5\n",
      "a : 4\n",
      "or : 4\n",
      "that : 4\n",
      "and : 4\n",
      "testudines : 3\n",
      "their : 3\n",
      "as : 3\n",
      "to : 3\n",
      "water : 3\n",
      "species : 3\n",
      "reptiles : 2\n",
      "order : 2\n",
      "from : 2\n",
      "english : 2\n",
      "sea : 2\n",
      "extant : 2\n",
      "known : 2\n",
      "than : 2\n",
      "temperature : 2\n",
      "amniotes : 2\n",
      "other : 2\n",
      "they : 1\n",
      "characterized : 1\n",
      "by : 1\n",
      "special : 1\n",
      "bony : 1\n",
      "cartilaginous : 1\n",
      "shell : 1\n",
      "developed : 1\n",
      "ribs : 1\n",
      "acts : 1\n",
      "shield : 1\n",
      "turtle : 1\n",
      "may : 1\n",
      "refer : 1\n",
      "whole : 1\n",
      "american : 1\n",
      "fresh : 1\n",
      "dwelling : 1\n",
      "british : 1\n",
      "includes : 1\n",
      "both : 1\n",
      "living : 1\n",
      "extinct : 1\n",
      "its : 1\n",
      "earliest : 1\n",
      "members : 1\n",
      "date : 1\n",
      "middle : 1\n",
      "jurassic : 1\n",
      "one : 1\n",
      "oldest : 1\n",
      "reptile : 1\n",
      "groups : 1\n",
      "more : 1\n",
      "ancient : 1\n",
      "snakes : 1\n",
      "crocodilians : 1\n",
      "360 : 1\n",
      "some : 1\n",
      "highly : 1\n",
      "endangered : 1\n",
      "ectotherms : 1\n",
      "commonly : 1\n",
      "called : 1\n",
      "cold : 1\n",
      "blooded : 1\n",
      "meaning : 1\n",
      "internal : 1\n",
      "varies : 1\n",
      "according : 1\n",
      "ambient : 1\n",
      "environment : 1\n",
      "however : 1\n",
      "because : 1\n",
      "high : 1\n",
      "metabolic : 1\n",
      "rate : 1\n",
      "leatherback : 1\n",
      "have : 1\n",
      "body : 1\n",
      "is : 1\n",
      "noticeably : 1\n",
      "higher : 1\n",
      "surrounding : 1\n",
      "classified : 1\n",
      "along : 1\n",
      "with : 1\n",
      "birds : 1\n",
      "mammals : 1\n",
      "like : 1\n",
      "breathe : 1\n",
      "air : 1\n",
      "do : 1\n",
      "not : 1\n",
      "lay : 1\n",
      "eggs : 1\n",
      "underwater : 1\n",
      "although : 1\n",
      "many : 1\n",
      "live : 1\n",
      "in : 1\n",
      "around : 1\n"
     ]
    }
   ],
   "source": [
    "while True:\n",
    "    input_value = input('file を入力してください(xxx.txt | xxx/yyy/zzz.txt) >>> ')\n",
    "    # 入力された値が適切な file かどうか判定\n",
    "    result = re.fullmatch('\\w+\\.txt$', os.path.basename(input_value))\n",
    "    if result:\n",
    "        try:\n",
    "            word_count(input_value)\n",
    "            break\n",
    "        except:\n",
    "            print(f'No such file or directory: {input_value}')\n",
    "    else:\n",
    "        print(f'{input_value}: 入力が正しくありません\\n')\n",
    "        continue"
   ]
  },
  {
   "cell_type": "code",
   "execution_count": 33,
   "metadata": {},
   "outputs": [
    {
     "data": {
      "text/plain": [
       "'turtle.txt'"
      ]
     },
     "execution_count": 33,
     "metadata": {},
     "output_type": "execute_result"
    }
   ],
   "source": [
    "p = '/Users/moto/udemy/Pythonic_code/beginner/word_count/turtle.txt'\n",
    "os.path.basename(p)"
   ]
  },
  {
   "cell_type": "code",
   "execution_count": null,
   "metadata": {},
   "outputs": [],
   "source": []
  }
 ],
 "metadata": {
  "interpreter": {
   "hash": "47dc47d103da982b1e933b8923cef8f585032c2b65a4949907fb888f13080055"
  },
  "kernelspec": {
   "display_name": "Python 3.10.0 64-bit ('venv': venv)",
   "name": "python3"
  },
  "language_info": {
   "codemirror_mode": {
    "name": "ipython",
    "version": 3
   },
   "file_extension": ".py",
   "mimetype": "text/x-python",
   "name": "python",
   "nbconvert_exporter": "python",
   "pygments_lexer": "ipython3",
   "version": "3.10.0"
  },
  "orig_nbformat": 4
 },
 "nbformat": 4,
 "nbformat_minor": 2
}
