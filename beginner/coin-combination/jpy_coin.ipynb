{
 "cells": [
  {
   "cell_type": "markdown",
   "metadata": {},
   "source": [
    "# 支払いの組み合わせ\n",
    "- それぞれの硬貨の枚数を引数として、最終的につくることができる金額の組み合わせの数を出力する関数 : `cul_price( )`\n",
    "\n",
    "*0<=5円の枚数<=10000*  \n",
    "*0<=10円の枚数<=10000*  \n",
    "*0<=500円の枚数<=10000* "
   ]
  },
  {
   "cell_type": "code",
   "execution_count": 16,
   "metadata": {},
   "outputs": [],
   "source": [
    "def cul_price(five, ten, five_hundred):\n",
    "    \n",
    "    if five | ten | five_hundred == 0:\n",
    "        five =+ 1\n",
    "        ten =+ 1\n",
    "        five_hundred =+ 1\n",
    "        # print(f'{five}{ten}{five_hundred}')\n",
    "        \n",
    "    if five <= 2 & ten <= 1 :\n",
    "        # 10円を5円に両替する -> (five + 1)通り\n",
    "        five = five + (ten * 2) + 1\n",
    "        "
   ]
  },
  {
   "cell_type": "code",
   "execution_count": 17,
   "metadata": {},
   "outputs": [
    {
     "name": "stdout",
     "output_type": "stream",
     "text": [
      "111\n"
     ]
    },
    {
     "data": {
      "text/plain": [
       "3"
      ]
     },
     "execution_count": 17,
     "metadata": {},
     "output_type": "execute_result"
    }
   ],
   "source": [
    "cul_price(0, 0, 0)"
   ]
  },
  {
   "cell_type": "code",
   "execution_count": 8,
   "metadata": {},
   "outputs": [
    {
     "name": "stdout",
     "output_type": "stream",
     "text": [
      "0\n",
      "1\n",
      "2\n",
      "3\n"
     ]
    }
   ],
   "source": [
    "for i in range(3+1):\n",
    "    print(i)"
   ]
  },
  {
   "cell_type": "code",
   "execution_count": 47,
   "metadata": {},
   "outputs": [
    {
     "data": {
      "text/plain": [
       "1"
      ]
     },
     "execution_count": 47,
     "metadata": {},
     "output_type": "execute_result"
    }
   ],
   "source": [
    "a = 0 + 1\n",
    "a"
   ]
  },
  {
   "cell_type": "code",
   "execution_count": 3,
   "metadata": {},
   "outputs": [],
   "source": [
    "def cul_price_simple(a, b, c):  # 数式統合ver\n",
    "    if a < 2:\n",
    "        # b >= 50 -> 500円玉を10円玉に両替する\n",
    "        return (a+1) * (b + min(b+1, 50)*c + 1) - 1\n",
    "    else:\n",
    "        # 5a+10b >= 500 -> 500円玉と10円玉を5円玉に両替する\n",
    "        return a + 2*b + min(a+2*b+1, 100)*c"
   ]
  },
  {
   "cell_type": "code",
   "execution_count": 388,
   "metadata": {},
   "outputs": [],
   "source": [
    "def cul_price1(five, ten, five_hundred):\n",
    "        \n",
    "    f_num = five * 5\n",
    "    t_num = ten * 10\n",
    "\n",
    "    # 5円が2枚以上 and 10円が1枚以上 and 5円と10円の合計が 500円以下\n",
    "    if five >= 2 and ten >= 1 and f_num + t_num < 500:\n",
    "        \n",
    "        # 10円を5円に両替する -> (five + 1)通り\n",
    "        five = five + (ten * 2) + 1\n",
    "        \n",
    "        # 0 = 1通りなので\n",
    "        five_hundred += 1\n",
    "        return five * five_hundred -1\n",
    "        \n",
    "    # 500円以上であれば 500円も5円に両替 : 全て(five + 1) 通りにする\n",
    "    elif five >= 2 and ten >= 1 and f_num + t_num >= 500:\n",
    "        # 10円を5円に両替する -> (five + 1)通り\n",
    "        five = five + (ten * 2) + 1\n",
    "        return five + (five_hundred * 100) -1\n",
    "    \n",
    "    # 5円 = 0 , 10円 = 0, 500円 = 0 枚 and  five + ten < 500\n",
    "    elif f_num + t_num < 500:\n",
    "        # 各種の通り値を掛ける\n",
    "        return (five + 1) * (ten + 1) * (five_hundred + 1) -1\n",
    "    \n",
    "    elif f_num >= 500:\n",
    "        # 500円を5円に両替\n",
    "        return (five + (five_hundred * 100) + 1) * (ten + 1) -1\n",
    "    \n",
    "    else:\n",
    "        # 500円を10円に両替\n",
    "        return (five + 1) * (ten + (five_hundred * 50) + 1) -1\n",
    "        \n"
   ]
  },
  {
   "cell_type": "code",
   "execution_count": 389,
   "metadata": {},
   "outputs": [
    {
     "data": {
      "text/plain": [
       "100"
      ]
     },
     "execution_count": 389,
     "metadata": {},
     "output_type": "execute_result"
    }
   ],
   "source": [
    "cul_price1(0, 50, 1)"
   ]
  },
  {
   "cell_type": "code",
   "execution_count": 147,
   "metadata": {},
   "outputs": [
    {
     "data": {
      "text/plain": [
       "0"
      ]
     },
     "execution_count": 147,
     "metadata": {},
     "output_type": "execute_result"
    }
   ],
   "source": [
    "# cul_price(100, 0, 3)\n",
    "# cul_price(0, 50, 3)\n",
    "# cul_price1(100, 0, 0)\n",
    "# cul_price(0, 50, 0)\n",
    "# cul_price(0, 0, 10)\n",
    "cul_price(0, 0, 0)\n",
    "# cul_price_simple(100, 0, 3)\n",
    "# cul_price_simple(100, 0, 0)\n",
    "# cul_price_simple(0, 50, 0)\n",
    "# cul_price_simple(0, 0, 10)\n",
    "# cul_price_simple(0, 50, 3)"
   ]
  },
  {
   "cell_type": "code",
   "execution_count": 5,
   "metadata": {},
   "outputs": [
    {
     "data": {
      "text/plain": [
       "503"
      ]
     },
     "execution_count": 5,
     "metadata": {},
     "output_type": "execute_result"
    }
   ],
   "source": [
    "# cul_price_simple(1, 50, 0)\n",
    "# cul_price_simple(2, 3, 4)\n",
    "# cul_price_simple(3, 51, 1)\n",
    "cul_price_simple(1, 50, 3)\n",
    "cul_price_simple(0, 50, 3)\n",
    "cul_price_simple(1, 51, 4)"
   ]
  },
  {
   "cell_type": "code",
   "execution_count": 5,
   "metadata": {},
   "outputs": [
    {
     "name": "stdout",
     "output_type": "stream",
     "text": [
      "1\n",
      "2\n"
     ]
    }
   ],
   "source": [
    "a,b,c=(int(x) for x in input().split())\n",
    "print(a)\n",
    "print(b)"
   ]
  },
  {
   "cell_type": "markdown",
   "metadata": {},
   "source": [
    "## algorithm 修正"
   ]
  },
  {
   "cell_type": "code",
   "execution_count": 390,
   "metadata": {},
   "outputs": [],
   "source": [
    "def cul_price2(five, ten, five_hundred):\n",
    "        \n",
    "    f_num = five * 5\n",
    "    t_num = ten * 10\n",
    "\n",
    "    # 5円が2枚以上 and 10円が1枚以上 and 5円と10円の合計が 500円以下\n",
    "    if five >= 2 and ten >= 1 and f_num + t_num < 500:\n",
    "        # 10円を5円に両替する -> (five + 1)通り * five_hundred + 1 通り\n",
    "        return (five + (ten * 2) + 1) * (five_hundred + 1) -1\n",
    "        \n",
    "    # 500円以上であれば 500円も5円に両替 : 全て(five + 1) 通りにする\n",
    "    elif five >= 2 and ten >= 1 and f_num + t_num >= 500:\n",
    "        # 10円を5円に両替する -> (five + 1 - 1)通り\n",
    "        return five + (ten * 2) + (five_hundred * 100)\n",
    "    \n",
    "    # 上記以外\n",
    "    # 5円 = 0 , 10円 = 0, 500円 = 0 枚 and  five + ten < 500\n",
    "    elif f_num + t_num < 500:\n",
    "        # 各種の通り値を掛ける\n",
    "        return (five + 1) * (ten + 1) * (five_hundred + 1) -1\n",
    "    \n",
    "    elif f_num >= 500:\n",
    "        # 500円を5円に両替\n",
    "        return (five + (five_hundred * 100) + 1) * (ten + 1) -1\n",
    "    \n",
    "    else:\n",
    "        # 500円を10円に両替\n",
    "        return (five + 1) * (ten + (five_hundred * 50) + 1) -1\n"
   ]
  },
  {
   "cell_type": "code",
   "execution_count": 269,
   "metadata": {},
   "outputs": [
    {
     "data": {
      "text/plain": [
       "200"
      ]
     },
     "execution_count": 269,
     "metadata": {},
     "output_type": "execute_result"
    }
   ],
   "source": [
    "# cul_price(3, 51, 1)\n",
    "# cul_price_simple(3, 51, 1)\n",
    "# cul_price(1, 1, 1)\n",
    "# cul_price_simple(1, 1, 1)\n",
    "# cul_price(2, 3, 4)\n",
    "# cul_price_simple(2, 3, 4)\n",
    "cul_price(0, 51, 3)\n",
    "cul_price(0, 50, 3)\n",
    "# cul_price_simple(0, 50, 3)\n",
    "# cul_price_simple(0, 51, 3)"
   ]
  },
  {
   "cell_type": "markdown",
   "metadata": {},
   "source": [
    "## algorithm を simple にしてみる"
   ]
  },
  {
   "cell_type": "code",
   "execution_count": 249,
   "metadata": {},
   "outputs": [],
   "source": [
    "def cul_price3(f, t, fh):\n",
    "\n",
    "    # 10円と500円の重複をなくす\n",
    "    if f == 0 and t == 50:\n",
    "        five = f + (t * 2)\n",
    "        five = (five + min(five, 100 - 1) * fh + fh) / 2\n",
    "        return int(five)\n",
    "    \n",
    "    # 5円と10円の重複をなくす\n",
    "    else:\n",
    "        # 全てを5円玉に両替する(five + 1 - 1)通り 500円以下 or 500円以上\n",
    "        five = f + (t * 2)\n",
    "        return five + min(five, 100 - 1) * fh + fh\n",
    "\n"
   ]
  },
  {
   "cell_type": "code",
   "execution_count": 391,
   "metadata": {},
   "outputs": [],
   "source": [
    "def cul_price3(five, ten, fh_num):\n",
    "\n",
    "    # 10円と500円の重複をなくす\n",
    "    if five == 0 and ten % 50 == 0 and ten != 0:\n",
    "        fives = five + (ten * 2)\n",
    "        result = (fives + min(fives, 100 - 1) * fh_num + fh_num) / 2\n",
    "        return int(result)\n",
    "    \n",
    "    elif five == 0 and ten == 0:\n",
    "        return fh_num\n",
    "    \n",
    "    elif five == 0 and fh_num == 0:\n",
    "        return ten\n",
    "    \n",
    "    # 5円と10円の重複をなくす\n",
    "    else:\n",
    "        # 全てを5円玉に両替する(five + 1 - 1)通り 500円以下 or 500円以上\n",
    "        fives = five + (ten * 2)\n",
    "        return fives + min(fives, 100 - 1) * fh_num + fh_num"
   ]
  },
  {
   "cell_type": "code",
   "execution_count": 392,
   "metadata": {},
   "outputs": [
    {
     "data": {
      "text/plain": [
       "100"
      ]
     },
     "execution_count": 392,
     "metadata": {},
     "output_type": "execute_result"
    }
   ],
   "source": [
    "# cul_price3(3, 51, 1)\n",
    "# cul_price3(100, 0, 3)\n",
    "# cul_price3(0, 50, 3) \n",
    "# cul_price3(0, 100, 3)\n",
    "# cul_price3(100, 0, 0)\n",
    "# cul_price3(0, 50, 0)\n",
    "# cul_price3(2, 0, 0)\n",
    "# cul_price3(3, 50, 4)\n",
    "# cul_price3(99, 0, 10)\n",
    "cul_price3(49, 38, 34)\n",
    "cul_price3(5, 10, 100)\n",
    "cul_price3(100, 50, 30)\n",
    "cul_price3(0, 50, 1)"
   ]
  },
  {
   "cell_type": "code",
   "execution_count": 393,
   "metadata": {},
   "outputs": [
    {
     "data": {
      "text/plain": [
       "100"
      ]
     },
     "execution_count": 393,
     "metadata": {},
     "output_type": "execute_result"
    }
   ],
   "source": [
    "# cul_price2(3, 51, 1)\n",
    "# cul_price2(100, 0, 3)\n",
    "# cul_price2(0, 50, 3)\n",
    "# cul_price2(0, 100, 3)\n",
    "# cul_price2(100, 0, 0)\n",
    "# cul_price2(0, 50, 0)\n",
    "# cul_price2(1, 0, 0)\n",
    "# cul_price2(3, 50, 4)\n",
    "# cul_price2(99, 0, 10)\n",
    "cul_price2(49, 38, 34)\n",
    "cul_price2(5, 10, 100)\n",
    "cul_price2(100, 50, 30)\n",
    "cul_price2(0, 50, 1)"
   ]
  },
  {
   "cell_type": "code",
   "execution_count": 384,
   "metadata": {},
   "outputs": [
    {
     "data": {
      "text/plain": [
       "100"
      ]
     },
     "execution_count": 384,
     "metadata": {},
     "output_type": "execute_result"
    }
   ],
   "source": [
    "# cul_price_simple(3, 51, 1)\n",
    "# cul_price_simple(100, 0, 3)\n",
    "# cul_price_simple(0, 50, 3)\n",
    "# cul_price_simple(0, 100, 3)\n",
    "# cul_price_simple(100, 0, 0)\n",
    "# cul_price_simple(0, 50, 0)\n",
    "# cul_price_simple(1, 0, 0)\n",
    "# cul_price_simple(3, 50, 4)\n",
    "# cul_price_simple(99, 0, 10)\n",
    "# cul_price_simple(49, 38, 34)\n",
    "# cul_price_simple(5, 10, 100)\n",
    "# cul_price_simple(100, 50, 30)\n",
    "cul_price_simple(0, 50, 1)"
   ]
  },
  {
   "cell_type": "code",
   "execution_count": 119,
   "metadata": {},
   "outputs": [
    {
     "data": {
      "text/plain": [
       "99"
      ]
     },
     "execution_count": 119,
     "metadata": {},
     "output_type": "execute_result"
    }
   ],
   "source": [
    "a = 100\n",
    "min(a, 100 - 1)"
   ]
  },
  {
   "cell_type": "code",
   "execution_count": null,
   "metadata": {},
   "outputs": [],
   "source": []
  }
 ],
 "metadata": {
  "interpreter": {
   "hash": "47dc47d103da982b1e933b8923cef8f585032c2b65a4949907fb888f13080055"
  },
  "kernelspec": {
   "display_name": "Python 3.10.0 64-bit ('venv': venv)",
   "language": "python",
   "name": "python3"
  },
  "language_info": {
   "codemirror_mode": {
    "name": "ipython",
    "version": 3
   },
   "file_extension": ".py",
   "mimetype": "text/x-python",
   "name": "python",
   "nbconvert_exporter": "python",
   "pygments_lexer": "ipython3",
   "version": "3.10.0"
  },
  "orig_nbformat": 4
 },
 "nbformat": 4,
 "nbformat_minor": 2
}
