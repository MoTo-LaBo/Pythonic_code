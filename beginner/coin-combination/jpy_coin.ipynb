{
 "cells": [
  {
   "cell_type": "markdown",
   "metadata": {},
   "source": [
    "# 支払いの組み合わせ\n",
    "- それぞれの硬貨の枚数を引数として、最終的につくることができる金額の組み合わせの数を出力する関数 : `cul_price( )`\n",
    "\n",
    "*0<=5円の枚数<=10000*  \n",
    "*0<=10円の枚数<=10000*  \n",
    "*0<=500円の枚数<=10000* "
   ]
  },
  {
   "cell_type": "code",
   "execution_count": 16,
   "metadata": {},
   "outputs": [],
   "source": [
    "def cul_price(five, ten, five_hundred):\n",
    "    \n",
    "    if five | ten | five_hundred == 0:\n",
    "        five =+ 1\n",
    "        ten =+ 1\n",
    "        five_hundred =+ 1\n",
    "        # print(f'{five}{ten}{five_hundred}')\n",
    "        \n",
    "    if five <= 2 & ten <= 1 :\n",
    "        # 10円を5円に両替する -> (five + 1)通り\n",
    "        five = five + (ten * 2) + 1\n",
    "        "
   ]
  },
  {
   "cell_type": "code",
   "execution_count": 17,
   "metadata": {},
   "outputs": [
    {
     "name": "stdout",
     "output_type": "stream",
     "text": [
      "111\n"
     ]
    },
    {
     "data": {
      "text/plain": [
       "3"
      ]
     },
     "execution_count": 17,
     "metadata": {},
     "output_type": "execute_result"
    }
   ],
   "source": [
    "cul_price(0, 0, 0)"
   ]
  },
  {
   "cell_type": "code",
   "execution_count": 8,
   "metadata": {},
   "outputs": [
    {
     "name": "stdout",
     "output_type": "stream",
     "text": [
      "0\n",
      "1\n",
      "2\n",
      "3\n"
     ]
    }
   ],
   "source": [
    "for i in range(3+1):\n",
    "    print(i)"
   ]
  },
  {
   "cell_type": "code",
   "execution_count": 47,
   "metadata": {},
   "outputs": [
    {
     "data": {
      "text/plain": [
       "1"
      ]
     },
     "execution_count": 47,
     "metadata": {},
     "output_type": "execute_result"
    }
   ],
   "source": [
    "a = 0 + 1\n",
    "a"
   ]
  },
  {
   "cell_type": "code",
   "execution_count": 6,
   "metadata": {},
   "outputs": [],
   "source": [
    "def cul_price(five, ten, five_hundred):\n",
    "        \n",
    "    f_num = five * 5\n",
    "    t_num = ten * 10\n",
    "\n",
    "    # 5円が2枚以上 and 10円が1枚以上 and 5円と10円の合計が 500円以下\n",
    "    if five >= 2 & ten >= 1 & f_num + t_num < 500:\n",
    "        \n",
    "        # 10円を5円に両替する -> (five + 1)通り\n",
    "        five = five + (ten * 2) + 1\n",
    "        \n",
    "        # 0 = 1通りなので\n",
    "        five_hundred += 1\n",
    "        return five * five_hundred -1\n",
    "        \n",
    "    # 500円以上であれば 500円も5円に両替 : 全て(five + 1) 通りにする\n",
    "    elif f_num + t_num >= 500:\n",
    "        return five + (five_hundred * 100) -1\n",
    "    \n",
    "    # 5円 = 0 , 10円 = 0, 500円 = 0 枚の場合\n",
    "    elif five | ten | five_hundred == 0 :\n",
    "\n",
    "        # 0 = 1通りなので\n",
    "        five += 1\n",
    "        ten += 1\n",
    "        five_hundred += 1\n",
    "\n",
    "        return five * ten * five_hundred -1\n",
    "    \n",
    "    # 5円 = 1枚　の場合\n",
    "    else:\n",
    "        five += 1\n",
    "        ten += 1\n",
    "        five_hundred += 1\n",
    "    \n",
    "        return five * ten * five_hundred -1\n"
   ]
  },
  {
   "cell_type": "code",
   "execution_count": 7,
   "metadata": {},
   "outputs": [
    {
     "data": {
      "text/plain": [
       "7"
      ]
     },
     "execution_count": 7,
     "metadata": {},
     "output_type": "execute_result"
    }
   ],
   "source": [
    "cul_price(1, 1, 1)"
   ]
  },
  {
   "cell_type": "code",
   "execution_count": 9,
   "metadata": {},
   "outputs": [],
   "source": [
    "def cul_price_simple(a, b, c):  # 数式統合ver\n",
    "    if a < 2:\n",
    "        # b >= 50 -> 500円玉を10円玉に両替する\n",
    "        return (a+1) * (b + min(b+1, 50)*c + 1) - 1\n",
    "    else:\n",
    "        # 5a+10b >= 500 -> 500円玉と10円玉を5円玉に両替する\n",
    "        return a + 2*b + min(a+2*b+1, 100)*c"
   ]
  },
  {
   "cell_type": "code",
   "execution_count": 10,
   "metadata": {},
   "outputs": [
    {
     "data": {
      "text/plain": [
       "7"
      ]
     },
     "execution_count": 10,
     "metadata": {},
     "output_type": "execute_result"
    }
   ],
   "source": [
    "cul_price_simple(1, 1, 1)"
   ]
  },
  {
   "cell_type": "code",
   "execution_count": 5,
   "metadata": {},
   "outputs": [
    {
     "name": "stdout",
     "output_type": "stream",
     "text": [
      "1\n",
      "2\n"
     ]
    }
   ],
   "source": [
    "a,b,c=(int(x) for x in input().split())\n",
    "print(a)\n",
    "print(b)"
   ]
  },
  {
   "cell_type": "code",
   "execution_count": null,
   "metadata": {},
   "outputs": [],
   "source": []
  }
 ],
 "metadata": {
  "interpreter": {
   "hash": "47dc47d103da982b1e933b8923cef8f585032c2b65a4949907fb888f13080055"
  },
  "kernelspec": {
   "display_name": "Python 3.10.0 64-bit ('venv': venv)",
   "language": "python",
   "name": "python3"
  },
  "language_info": {
   "codemirror_mode": {
    "name": "ipython",
    "version": 3
   },
   "file_extension": ".py",
   "mimetype": "text/x-python",
   "name": "python",
   "nbconvert_exporter": "python",
   "pygments_lexer": "ipython3",
   "version": "3.10.0"
  },
  "orig_nbformat": 4
 },
 "nbformat": 4,
 "nbformat_minor": 2
}
