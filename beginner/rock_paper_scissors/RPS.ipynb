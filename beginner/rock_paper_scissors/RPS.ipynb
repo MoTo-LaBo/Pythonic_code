{
 "cells": [
  {
   "cell_type": "markdown",
   "metadata": {},
   "source": [
    "# rock paper scissors (じゃんけん大会)\n",
    "- 入力するとコンピュータとのじゃんけんを実行し、勝ち/負け/引き分けがわかる"
   ]
  },
  {
   "cell_type": "code",
   "execution_count": 3,
   "metadata": {},
   "outputs": [],
   "source": [
    "import random"
   ]
  },
  {
   "cell_type": "code",
   "execution_count": 97,
   "metadata": {},
   "outputs": [
    {
     "name": "stdout",
     "output_type": "stream",
     "text": [
      "DRAW\n",
      "Your choice: rock\n",
      "PC's choice: rock\n"
     ]
    }
   ],
   "source": [
    "rps = [\"r\", \"p\", \"s\"]\n",
    "rps_list = [\"rock\", \"paper\", \"scissors\"]\n",
    "\n",
    "user = random.choice(rps)\n",
    "pc_choice = random.choice(rps)\n",
    "\n",
    "for i, v in  enumerate(rps):\n",
    "    if user == v:\n",
    "        user = i\n",
    "\n",
    "for i, v in enumerate(rps_list):\n",
    "    if user == i:\n",
    "        user_v = v\n",
    "\n",
    "for i, v in enumerate(rps):\n",
    "    if pc_choice == v:\n",
    "        pc_choice = i\n",
    "\n",
    "for i, v in enumerate(rps_list):\n",
    "    if pc_choice == i:\n",
    "        pc_v = v\n",
    "\n",
    "if user == pc_choice:\n",
    "    print(f'DRAW\\nYour choice: {user_v}\\nPC\\'s choice: {pc_v}')\n",
    "elif user == 2 and pc_choice == 1 or user == 1 and pc_choice == 0:\n",
    "    print(f'User WIN\\nYour choice: {user_v}\\nPC\\'s choice: {pc_v}')\n",
    "elif user == 0 and pc_choice == 1 or user == 1 and pc_choice == 2:\n",
    "    print(f'User LOSE\\nYour choice: {user_v}\\nPC\\'s choice: {pc_v}')\n",
    "else:\n",
    "    print('該当なし')"
   ]
  },
  {
   "cell_type": "code",
   "execution_count": 108,
   "metadata": {},
   "outputs": [
    {
     "name": "stdout",
     "output_type": "stream",
     "text": [
      "User WIN\n",
      "Your choice: scissors\n",
      "PC's choice: paper\n"
     ]
    }
   ],
   "source": [
    "user = input(\"rock(グー)　→ r , paper(パー)　→　p , scissors(チョキ) →　s の中から一つ選んで下さい >>\")\n",
    "\n",
    "rps = [\"r\", \"p\", \"s\"]\n",
    "rps_list = [\"rock\", \"paper\", \"scissors\"]\n",
    "\n",
    "pc_choice = random.choice(rps)\n",
    "\n",
    "for i, v in  enumerate(rps):\n",
    "    if user == v:\n",
    "        user = i\n",
    "\n",
    "for i, v in enumerate(rps_list):\n",
    "    if user == i:\n",
    "        user_v = v\n",
    "\n",
    "for i, v in enumerate(rps):\n",
    "    if pc_choice == v:\n",
    "        pc_choice = i\n",
    "\n",
    "for i, v in enumerate(rps_list):\n",
    "    if pc_choice == i:\n",
    "        pc_v = v\n",
    "\n",
    "if user == pc_choice:\n",
    "    print(f'DRAW\\nYour choice: {user_v}\\nPC\\'s choice: {pc_v}')\n",
    "elif user == 2 and pc_choice == 1 or user == 1 and pc_choice == 0:\n",
    "    print(f'User WIN\\nYour choice: {user_v}\\nPC\\'s choice: {pc_v}')\n",
    "elif user == 0 and pc_choice == 1 or user == 1 and pc_choice == 2:\n",
    "    print(f'User LOSE\\nYour choice: {user_v}\\nPC\\'s choice: {pc_v}')\n",
    "else:\n",
    "    print('該当なし')\n"
   ]
  },
  {
   "cell_type": "code",
   "execution_count": null,
   "metadata": {},
   "outputs": [],
   "source": [
    "import random\n",
    "\n",
    "user = input(\"rock(グー)　→ r , paper(パー)　→　p , scissors(チョキ) →　s の中から一つ選んで下さい >> \")\n",
    "\n",
    "rps = [\"r\", \"p\", \"s\"]\n",
    "rps_list = [\"rock\", \"paper\", \"scissors\"]\n",
    "\n",
    "pc = random.choice(rps)\n",
    "\n",
    "for i, v in enumerate(rps):\n",
    "    if user == v:\n",
    "        user = i\n",
    "\n",
    "for i2, v2 in enumerate(rps_list):\n",
    "    if user == i2:\n",
    "        user_v = v2\n",
    "\n",
    "for i3, v3 in enumerate(rps):\n",
    "    if pc == v3:\n",
    "        pc = i3\n",
    "\n",
    "for i4, v4 in enumerate(rps_list):\n",
    "    if pc == i4:\n",
    "        pc_v = v4\n",
    "\n",
    "if user == pc:\n",
    "    print(f'DRAW\\nYour choice: {user_v}\\nPC\\'s choice: {pc_v}')\n",
    "elif user == 2 and pc == 1 or user == 1 and pc == 0 or user == 0 and pc == 2:\n",
    "    print(f'WIN\\nYour choice: {user_v}\\nPC\\'s choice: {pc_v}')\n",
    "elif user == 0 and pc == 1 or user == 1 and pc == 2 or user == 2 and pc == 0:\n",
    "    print(f'LOSE\\nYour choice: {user_v}\\nPC\\'s choice: {pc_v}')\n",
    "else:\n",
    "    print('該当なし')\n"
   ]
  },
  {
   "cell_type": "code",
   "execution_count": 37,
   "metadata": {},
   "outputs": [
    {
     "data": {
      "text/plain": [
       "'r'"
      ]
     },
     "execution_count": 37,
     "metadata": {},
     "output_type": "execute_result"
    }
   ],
   "source": [
    "rps = {1: \"r\", 2: \"p\", 3: \"s\"}\n",
    "rps_v = list(rps.values())\n",
    "rps_list = [\"rock\", \"paper\", \"scissors\"]\n",
    "\n",
    "pc = random.choice(rps_v)\n",
    "pc"
   ]
  },
  {
   "cell_type": "code",
   "execution_count": 42,
   "metadata": {},
   "outputs": [
    {
     "data": {
      "text/plain": [
       "'scissors'"
      ]
     },
     "execution_count": 42,
     "metadata": {},
     "output_type": "execute_result"
    }
   ],
   "source": [
    "rps = {\"r\": \"rock\", \"p\": \"paper\", \"s\": \"scissors\"}\n",
    "rps_v = list(rps.values())\n",
    "\n",
    "pc = random.choice(rps_v)\n",
    "pc"
   ]
  },
  {
   "cell_type": "code",
   "execution_count": null,
   "metadata": {},
   "outputs": [],
   "source": []
  }
 ],
 "metadata": {
  "interpreter": {
   "hash": "47dc47d103da982b1e933b8923cef8f585032c2b65a4949907fb888f13080055"
  },
  "kernelspec": {
   "display_name": "Python 3.10.0 64-bit ('venv': venv)",
   "language": "python",
   "name": "python3"
  },
  "language_info": {
   "codemirror_mode": {
    "name": "ipython",
    "version": 3
   },
   "file_extension": ".py",
   "mimetype": "text/x-python",
   "name": "python",
   "nbconvert_exporter": "python",
   "pygments_lexer": "ipython3",
   "version": "3.10.0"
  },
  "orig_nbformat": 4
 },
 "nbformat": 4,
 "nbformat_minor": 2
}
