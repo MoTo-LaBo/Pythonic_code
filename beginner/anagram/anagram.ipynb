{
 "cells": [
  {
   "cell_type": "markdown",
   "metadata": {},
   "source": [
    "# Anagram (アナグラム)\n",
    "- anagram 解析\n",
    "\n",
    "  - 入力された単語が anagram であるかどうかを True or False で返す algorithm \n",
    "\n",
    "> astronomer = moon starer （天文学者＝月を見つめる者）"
   ]
  },
  {
   "cell_type": "code",
   "execution_count": 5,
   "metadata": {},
   "outputs": [],
   "source": [
    "def is_anagram(word1, word2):\n",
    "    w1 = re.sub(r'[\\t\\n\\r\\[\\]{}!@#$%^&*()-=_+;:~\\'\\\"<>/?,.|]', '', word1).lower()\n",
    "    w2 = re.sub(r'[\\t\\n\\r\\[\\]{}!@#$%^&*()-=_+;:~\\'\\\"<>/?,.|]', '', word2).lower()\n",
    "    # w1 = word1.replace(\" \", \"\").lower()\n",
    "    # w2 = word2.replace(\" \", \"\").lower()\n",
    "    list1 = sorted(w1)\n",
    "    list2 = sorted(w2)\n",
    "    if list1 == list2:\n",
    "        return True\n",
    "    else:\n",
    "        return False\n"
   ]
  },
  {
   "cell_type": "code",
   "execution_count": null,
   "metadata": {},
   "outputs": [],
   "source": [
    "is_anagram('Astronomer', 'Moon Starer')"
   ]
  },
  {
   "cell_type": "code",
   "execution_count": null,
   "metadata": {},
   "outputs": [],
   "source": [
    "is_anagram('abcde', 'kadfi')"
   ]
  },
  {
   "cell_type": "code",
   "execution_count": null,
   "metadata": {},
   "outputs": [],
   "source": [
    "s = 'abcdef'\n",
    "s1 = s.replace(\" \", \"\").lower()\n",
    "lists1 = sorted(s1)\n",
    "print(type(lists1), lists1)"
   ]
  },
  {
   "cell_type": "code",
   "execution_count": null,
   "metadata": {},
   "outputs": [],
   "source": [
    "while True:\n",
    "    w1, w2 = input('英単語を2つ入力して下さい(abcd, dcba) >>> ').split()\n",
    "    print(type(w1), w2)\n",
    "    break"
   ]
  },
  {
   "cell_type": "code",
   "execution_count": 6,
   "metadata": {},
   "outputs": [],
   "source": [
    "import re"
   ]
  },
  {
   "cell_type": "code",
   "execution_count": 8,
   "metadata": {},
   "outputs": [
    {
     "name": "stdout",
     "output_type": "stream",
     "text": [
      "入力値は正しいですか ? >> abあい,, あいab\n",
      "\n",
      "入力値は正しいですか ? >> あいう, ういあ\n",
      "\n",
      "input word :\tabc cba\n",
      "Anagrame :\tTrue\n"
     ]
    }
   ],
   "source": [
    "while True:\n",
    "    try:\n",
    "        w1, w2 = input('英単語を2つ入力して下さい(abcd, dcba) >>> ').split()\n",
    "        # 入力された文字が適切な word 判定\n",
    "        result = re.match('\\w[a-zA-Z]', w1) and re.match('\\w[a-zA-Z]', w2)\n",
    "        if result:\n",
    "            try:\n",
    "                print(f'input word :\\t{w1} {w2}')\n",
    "                print(f'Anagrame :\\t{is_anagram(w1, w2)}')\n",
    "                break\n",
    "            except:\n",
    "                print(f'入力値は正しいですか ? >> {w1}, {w2}\\n')\n",
    "        else:\n",
    "            print(f'入力値は正しいですか ? >> {w1}, {w2}\\n')\n",
    "    except:\n",
    "        print('入力は英単語 2つ にして下さい\\n')"
   ]
  },
  {
   "cell_type": "code",
   "execution_count": null,
   "metadata": {},
   "outputs": [],
   "source": []
  }
 ],
 "metadata": {
  "interpreter": {
   "hash": "47dc47d103da982b1e933b8923cef8f585032c2b65a4949907fb888f13080055"
  },
  "kernelspec": {
   "display_name": "Python 3.10.0 64-bit ('venv': venv)",
   "name": "python3"
  },
  "language_info": {
   "codemirror_mode": {
    "name": "ipython",
    "version": 3
   },
   "file_extension": ".py",
   "mimetype": "text/x-python",
   "name": "python",
   "nbconvert_exporter": "python",
   "pygments_lexer": "ipython3",
   "version": "3.10.0"
  },
  "orig_nbformat": 4
 },
 "nbformat": 4,
 "nbformat_minor": 2
}
