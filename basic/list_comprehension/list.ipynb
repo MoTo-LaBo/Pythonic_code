{
 "cells": [
  {
   "cell_type": "code",
   "execution_count": 1,
   "metadata": {},
   "outputs": [],
   "source": [
    "import numpy as np"
   ]
  },
  {
   "cell_type": "code",
   "execution_count": 2,
   "metadata": {},
   "outputs": [
    {
     "data": {
      "text/plain": [
       "[19, 0, 30, 30, 20, 16, 7, 38, 39, 12]"
      ]
     },
     "execution_count": 2,
     "metadata": {},
     "output_type": "execute_result"
    }
   ],
   "source": [
    "Celsius = list(np.random.randint(0, 40, 10))\n",
    "Celsius"
   ]
  },
  {
   "cell_type": "code",
   "execution_count": 3,
   "metadata": {},
   "outputs": [
    {
     "name": "stdout",
     "output_type": "stream",
     "text": [
      "index: 0\n",
      "\n",
      "value: 19\n",
      "index: 1\n",
      "\n",
      "value: 0\n",
      "index: 2\n",
      "\n",
      "value: 30\n",
      "index: 3\n",
      "\n",
      "value: 30\n",
      "index: 4\n",
      "\n",
      "value: 20\n",
      "index: 5\n",
      "\n",
      "value: 16\n",
      "index: 6\n",
      "\n",
      "value: 7\n",
      "index: 7\n",
      "\n",
      "value: 38\n",
      "index: 8\n",
      "\n",
      "value: 39\n",
      "index: 9\n",
      "\n",
      "value: 12\n"
     ]
    }
   ],
   "source": [
    "for i, v in enumerate(Celsius):\n",
    "    v2 = int(v)\n",
    "    print(f'index: {i}\\n\\nvalue: {v2}')"
   ]
  },
  {
   "cell_type": "markdown",
   "metadata": {},
   "source": [
    "### 小数点以下の桁数、有効桁（有効数字）\n",
    "> https://note.nkmk.me/python-f-strings/"
   ]
  },
  {
   "cell_type": "code",
   "execution_count": 4,
   "metadata": {},
   "outputs": [
    {
     "data": {
      "text/plain": [
       "['66.2°F',\n",
       " '32°F',\n",
       " '86°F',\n",
       " '86°F',\n",
       " '68°F',\n",
       " '60.8°F',\n",
       " '44.6°F',\n",
       " '100°F',\n",
       " '102°F',\n",
       " '53.6°F']"
      ]
     },
     "execution_count": 4,
     "metadata": {},
     "output_type": "execute_result"
    }
   ],
   "source": [
    "Fahrenheit = [f'{1.8 * int(v) + 32:.3g}°F' for _, v in enumerate(Celsius)]\n",
    "Fahrenheit"
   ]
  },
  {
   "cell_type": "markdown",
   "metadata": {},
   "source": [
    "### <u>terminal python file 実行</u>\n",
    "### $$ctrl + command + P$$"
   ]
  },
  {
   "cell_type": "code",
   "execution_count": null,
   "metadata": {},
   "outputs": [],
   "source": []
  }
 ],
 "metadata": {
  "interpreter": {
   "hash": "8216ef37010e32f1fb187f2032b55779286b782ac254035d73c9c67ca788bbd7"
  },
  "kernelspec": {
   "display_name": "Python 3.10.0 64-bit ('venv': venv)",
   "name": "python3"
  },
  "language_info": {
   "codemirror_mode": {
    "name": "ipython",
    "version": 3
   },
   "file_extension": ".py",
   "mimetype": "text/x-python",
   "name": "python",
   "nbconvert_exporter": "python",
   "pygments_lexer": "ipython3",
   "version": "3.10.0"
  },
  "orig_nbformat": 4
 },
 "nbformat": 4,
 "nbformat_minor": 2
}
