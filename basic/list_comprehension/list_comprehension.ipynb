{
 "cells": [
  {
   "cell_type": "markdown",
   "metadata": {},
   "source": [
    "### <u>terminal python file 実行</u>\n",
    "### $$ctrl + command + P$$"
   ]
  },
  {
   "cell_type": "code",
   "execution_count": 1,
   "metadata": {},
   "outputs": [],
   "source": [
    "import numpy as np"
   ]
  },
  {
   "cell_type": "code",
   "execution_count": 2,
   "metadata": {},
   "outputs": [
    {
     "data": {
      "text/plain": [
       "[19, 0, 30, 30, 20, 16, 7, 38, 39, 12]"
      ]
     },
     "execution_count": 2,
     "metadata": {},
     "output_type": "execute_result"
    }
   ],
   "source": [
    "Celsius = list(np.random.randint(0, 40, 10))\n",
    "Celsius"
   ]
  },
  {
   "cell_type": "code",
   "execution_count": 3,
   "metadata": {},
   "outputs": [
    {
     "name": "stdout",
     "output_type": "stream",
     "text": [
      "index: 0\n",
      "\n",
      "value: 19\n",
      "index: 1\n",
      "\n",
      "value: 0\n",
      "index: 2\n",
      "\n",
      "value: 30\n",
      "index: 3\n",
      "\n",
      "value: 30\n",
      "index: 4\n",
      "\n",
      "value: 20\n",
      "index: 5\n",
      "\n",
      "value: 16\n",
      "index: 6\n",
      "\n",
      "value: 7\n",
      "index: 7\n",
      "\n",
      "value: 38\n",
      "index: 8\n",
      "\n",
      "value: 39\n",
      "index: 9\n",
      "\n",
      "value: 12\n"
     ]
    }
   ],
   "source": [
    "for i, v in enumerate(Celsius):\n",
    "    v2 = int(v)\n",
    "    print(f'index: {i}\\n\\nvalue: {v2}')"
   ]
  },
  {
   "cell_type": "markdown",
   "metadata": {},
   "source": [
    "### 小数点以下の桁数、有効桁（有効数字）\n",
    "> https://note.nkmk.me/python-f-strings/"
   ]
  },
  {
   "cell_type": "code",
   "execution_count": 4,
   "metadata": {},
   "outputs": [
    {
     "data": {
      "text/plain": [
       "['66.2°F',\n",
       " '32°F',\n",
       " '86°F',\n",
       " '86°F',\n",
       " '68°F',\n",
       " '60.8°F',\n",
       " '44.6°F',\n",
       " '100°F',\n",
       " '102°F',\n",
       " '53.6°F']"
      ]
     },
     "execution_count": 4,
     "metadata": {},
     "output_type": "execute_result"
    }
   ],
   "source": [
    "Fahrenheit = [f'{1.8 * int(v) + 32:.3g}°F' for _, v in enumerate(Celsius)]\n",
    "Fahrenheit"
   ]
  },
  {
   "cell_type": "markdown",
   "metadata": {},
   "source": [
    "## 上記の改善 code\n",
    "- **np.random.randint を使用しない**\n",
    "  - *配列の変換が不必要*\n",
    "  - *numpy を install する必要性がない*\n",
    "  - *python でも random な数は生成できる*"
   ]
  },
  {
   "cell_type": "code",
   "execution_count": 13,
   "metadata": {},
   "outputs": [],
   "source": [
    "from random import randint\n",
    "from random import sample"
   ]
  },
  {
   "cell_type": "code",
   "execution_count": 14,
   "metadata": {},
   "outputs": [
    {
     "data": {
      "text/plain": [
       "[23, 39, 35, 16, 21, 16, 25, 12, 19, 33]"
      ]
     },
     "execution_count": 14,
     "metadata": {},
     "output_type": "execute_result"
    }
   ],
   "source": [
    "Celsius1 = [randint(0, 40) for i in range(10)]\n",
    "# type(Celsius1)\n",
    "Celsius1"
   ]
  },
  {
   "cell_type": "code",
   "execution_count": 15,
   "metadata": {},
   "outputs": [
    {
     "data": {
      "text/plain": [
       "[9, 15, 36, 10, 31, 7, 29, 1, 19, 2]"
      ]
     },
     "execution_count": 15,
     "metadata": {},
     "output_type": "execute_result"
    }
   ],
   "source": [
    "Celsius2 = sample(range(0, 40), 10)\n",
    "Celsius2"
   ]
  },
  {
   "cell_type": "code",
   "execution_count": 16,
   "metadata": {},
   "outputs": [
    {
     "data": {
      "text/plain": [
       "['48.2°F',\n",
       " '59°F',\n",
       " '96.8°F',\n",
       " '50°F',\n",
       " '87.8°F',\n",
       " '44.6°F',\n",
       " '84.2°F',\n",
       " '33.8°F',\n",
       " '66.2°F',\n",
       " '35.6°F']"
      ]
     },
     "execution_count": 16,
     "metadata": {},
     "output_type": "execute_result"
    }
   ],
   "source": [
    "Fahrenheit = [f'{1.8 * i + 32:.3g}°F' for i in Celsius2]\n",
    "Fahrenheit"
   ]
  },
  {
   "cell_type": "markdown",
   "metadata": {},
   "source": [
    "## 上記の code をもっと汎用性を高くする interactive にする\n",
    "- *対話的な program*"
   ]
  },
  {
   "cell_type": "code",
   "execution_count": 39,
   "metadata": {},
   "outputs": [
    {
     "name": "stdout",
     "output_type": "stream",
     "text": [
      "30.3°Cです\n"
     ]
    }
   ],
   "source": [
    "while True:\n",
    "    celsius_num = input('今日の気温を入力して下さい >>> ')\n",
    "    # 入力された値(string) が数値かどうか判定　ー＞ int(integer)型へ\n",
    "    if celsius_num.isdecimal():\n",
    "        c_num = int(celsius_num)\n",
    "        \n",
    "        # 判定後の処理　-> 正常な入力値か？(正常な気温か？の振り分け)　-20°C ~ 40°C の一般的な領域を指定\n",
    "        match c_num:\n",
    "            case int() if c_num >= -20 and c_num < 40:\n",
    "                print(f'{c_num}°Cです')\n",
    "                break\n",
    "            # -20°C ~ 40°C の領域を外れた場合の処理, その他例外全て (半角でなかった場合も含む)\n",
    "            case _:\n",
    "                print(f'入力 Error です\\n -20 ~ 40 or -20.0 ~ 40.0 の間で入力をお願いします >>> ')\n",
    "                continue\n",
    "\n",
    "    # 数字入力でなかった場合の処理 & 小数点込みの入力だった場合の処理\n",
    "    else:\n",
    "        c_fnum = float(celsius_num)\n",
    "        match c_fnum:\n",
    "            case float() if c_fnum >= -20 and c_fnum < 40:\n",
    "                print(f'{c_fnum}°Cです')\n",
    "                break\n",
    "            # -20°C ~ 40°C の領域を外れた場合の処理, その他例外全て (半角でなかった場合も含む)\n",
    "            case _:\n",
    "                print(f'入力 Error です\\n -20 ~ 40 or -20.0 ~ 40.0 の間で入力をお願いします >>> ')\n",
    "                continue"
   ]
  },
  {
   "cell_type": "markdown",
   "metadata": {},
   "source": [
    "### 3回の改善後 code\n",
    "- **摂氏　->　華氏へ変換**\n",
    "  - *今日の気温を入力すれば華氏へ変換して出力してくれる*\n",
    "  - interactive な code 完成"
   ]
  },
  {
   "cell_type": "code",
   "execution_count": 41,
   "metadata": {},
   "outputs": [
    {
     "name": "stdout",
     "output_type": "stream",
     "text": [
      "華氏 : 93.2 °Fです\n"
     ]
    }
   ],
   "source": [
    "while True:\n",
    "    celsius_num = input('今日の気温を入力して下さい >>> ')\n",
    "    # 入力された値(string) が数値かどうか判定　ー＞ int(integer)型へ\n",
    "    if celsius_num.isdecimal():\n",
    "        c_num = int(celsius_num)\n",
    "        \n",
    "        # 判定後の処理　-> 正常な入力値か？(正常な気温か？の振り分け)　-20°C ~ 40°C の一般的な領域を指定\n",
    "        match c_num:\n",
    "            case int() if c_num >= -20 and c_num < 40:\n",
    "                print(f'華氏 : {1.8 * c_num + 32:.3g} °Fです')\n",
    "                break\n",
    "            # -20°C ~ 40°C の領域を外れた場合の処理, その他例外全て (半角でなかった場合も含む)\n",
    "            case _:\n",
    "                print(f'入力 Error です\\n -20 ~ 40 or -20.0 ~ 40.0 の間で入力をお願いします >>> ')\n",
    "                continue\n",
    "\n",
    "    # 数字入力でなかった場合の処理 & 小数点込みの入力だった場合の処理\n",
    "    else:\n",
    "        c_fnum = float(celsius_num)\n",
    "        match c_fnum:\n",
    "            case float() if c_fnum >= -20 and c_fnum < 40:\n",
    "                print(f'華氏 : {1.8 * c_fnum + 32:.3g} °Fです')\n",
    "                break\n",
    "            # -20°C ~ 40°C の領域を外れた場合の処理, その他例外全て (半角でなかった場合も含む)\n",
    "            case _:\n",
    "                print(f'入力 Error です\\n -20 ~ 40 or -20.0 ~ 40.0 の間で入力をお願いします >>> ')\n",
    "                continue"
   ]
  },
  {
   "cell_type": "code",
   "execution_count": null,
   "metadata": {},
   "outputs": [],
   "source": []
  }
 ],
 "metadata": {
  "interpreter": {
   "hash": "47dc47d103da982b1e933b8923cef8f585032c2b65a4949907fb888f13080055"
  },
  "kernelspec": {
   "display_name": "Python 3.10.0 64-bit ('venv': venv)",
   "name": "python3"
  },
  "language_info": {
   "codemirror_mode": {
    "name": "ipython",
    "version": 3
   },
   "file_extension": ".py",
   "mimetype": "text/x-python",
   "name": "python",
   "nbconvert_exporter": "python",
   "pygments_lexer": "ipython3",
   "version": "3.10.0"
  },
  "orig_nbformat": 4
 },
 "nbformat": 4,
 "nbformat_minor": 2
}
