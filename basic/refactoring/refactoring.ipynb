{
 "cells": [
  {
   "cell_type": "markdown",
   "metadata": {},
   "source": [
    "# refactoring"
   ]
  },
  {
   "cell_type": "code",
   "execution_count": 19,
   "metadata": {},
   "outputs": [
    {
     "name": "stdout",
     "output_type": "stream",
     "text": [
      "9\n"
     ]
    }
   ],
   "source": [
    "def square(x):\n",
    "    return x * x\n",
    "print(square(3))"
   ]
  },
  {
   "cell_type": "code",
   "execution_count": 20,
   "metadata": {},
   "outputs": [],
   "source": [
    "s = lambda y: y * y"
   ]
  },
  {
   "cell_type": "code",
   "execution_count": 21,
   "metadata": {},
   "outputs": [
    {
     "name": "stdout",
     "output_type": "stream",
     "text": [
      "25\n"
     ]
    }
   ],
   "source": [
    "print(s(5))"
   ]
  },
  {
   "cell_type": "code",
   "execution_count": 22,
   "metadata": {},
   "outputs": [
    {
     "name": "stdout",
     "output_type": "stream",
     "text": [
      "BUHECNEICSATAD!!!\n"
     ]
    }
   ],
   "source": [
    "def shout_backwards(string):\n",
    "    all_caps = string.upper()\n",
    "    backwards = all_caps[::-1]\n",
    "    result = backwards + \"!!!\"\n",
    "    return result\n",
    "\n",
    "print(shout_backwards('DataScienceHub'))"
   ]
  },
  {
   "cell_type": "code",
   "execution_count": 23,
   "metadata": {},
   "outputs": [
    {
     "data": {
      "text/plain": [
       "'edoc nohtyp'"
      ]
     },
     "execution_count": 23,
     "metadata": {},
     "output_type": "execute_result"
    }
   ],
   "source": [
    "a = 'python code'\n",
    "a1 = a[::-1]\n",
    "a1"
   ]
  },
  {
   "cell_type": "code",
   "execution_count": 24,
   "metadata": {},
   "outputs": [
    {
     "name": "stdout",
     "output_type": "stream",
     "text": [
      "DATASCIENCEHUB\n"
     ]
    }
   ],
   "source": [
    "s = lambda x : x.upper()\n",
    "print(s('DataScienceHub'))"
   ]
  },
  {
   "cell_type": "code",
   "execution_count": 25,
   "metadata": {},
   "outputs": [
    {
     "name": "stdout",
     "output_type": "stream",
     "text": [
      "BUHECNEICSATAD!!!\n"
     ]
    }
   ],
   "source": [
    "s = lambda x: x[::-1].upper() + '!!!'\n",
    "print(s('DataScienceHub'))"
   ]
  },
  {
   "cell_type": "code",
   "execution_count": 26,
   "metadata": {},
   "outputs": [
    {
     "name": "stdout",
     "output_type": "stream",
     "text": [
      "BUHECNEICSATAD!!!\n"
     ]
    }
   ],
   "source": [
    "shout_backwards = lambda x: x[::-1].upper() + '!!!'\n",
    "print(shout_backwards('DataScienceHub'))"
   ]
  },
  {
   "cell_type": "code",
   "execution_count": 27,
   "metadata": {},
   "outputs": [
    {
     "name": "stdout",
     "output_type": "stream",
     "text": [
      "[9, 49, 121, 169, 1849]\n"
     ]
    }
   ],
   "source": [
    "def squared_primes(array):\n",
    "    squared_primes = [z*z for z in [x for x in array if (len([y for y in range(2, x) if x % y == 0]) == 0) & (x > 1)]]\n",
    "    return squared_primes\n",
    "\n",
    "\n",
    "print(squared_primes([1, 3, 4, 7, 9, 10, 11, 13, 16, 43]))"
   ]
  },
  {
   "cell_type": "code",
   "execution_count": 28,
   "metadata": {},
   "outputs": [
    {
     "name": "stdout",
     "output_type": "stream",
     "text": [
      "[1, 3, 4, 7, 9, 10, 11, 43, 13, 16]\n"
     ]
    }
   ],
   "source": [
    "array = [1, 3, 4, 7, 9, 10, 11, 13, 16, 43]\n",
    "prime = []\n",
    "\n",
    "for i in array:\n",
    "    for j in range(len(array)):\n",
    "        if i % i== 0:\n",
    "            prime.append(i)\n",
    "print(list(set(prime)))"
   ]
  },
  {
   "cell_type": "code",
   "execution_count": 29,
   "metadata": {},
   "outputs": [
    {
     "data": {
      "text/plain": [
       "43"
      ]
     },
     "execution_count": 29,
     "metadata": {},
     "output_type": "execute_result"
    }
   ],
   "source": [
    "max(array)"
   ]
  },
  {
   "cell_type": "code",
   "execution_count": 30,
   "metadata": {},
   "outputs": [
    {
     "name": "stdout",
     "output_type": "stream",
     "text": [
      "1\n",
      "余が0ではない数: 1\n",
      "3\n",
      "3\n",
      "余が0ではない数: 3\n",
      "4\n",
      "4\n",
      "4\n",
      "余が0ではない数: 4\n",
      "7\n",
      "7\n",
      "余が0ではない数: 7\n",
      "9\n",
      "9\n",
      "9\n",
      "余が0ではない数: 9\n",
      "10\n",
      "10\n",
      "10\n",
      "10\n",
      "余が0ではない数: 10\n",
      "11\n",
      "11\n",
      "余が0ではない数: 11\n",
      "13\n",
      "13\n",
      "余が0ではない数: 13\n",
      "16\n",
      "16\n",
      "16\n",
      "16\n",
      "16\n",
      "余が0ではない数: 16\n",
      "43\n",
      "43\n",
      "余が0ではない数: 43\n"
     ]
    }
   ],
   "source": [
    "for i in array:\n",
    "    m = max(array)+1\n",
    "    for j in range(1,m):\n",
    "        if i % j == 0:\n",
    "            print(i)\n",
    "    else:\n",
    "        print(f'余が0ではない数: {i}')\n"
   ]
  },
  {
   "cell_type": "code",
   "execution_count": 31,
   "metadata": {},
   "outputs": [],
   "source": [
    "def squared_primes(array):\n",
    "    for i in array:\n",
    "        m = max(array)+1\n",
    "        for j in range(1,m):\n",
    "            if i % j == 0:\n",
    "                print(f'{i}')"
   ]
  },
  {
   "cell_type": "code",
   "execution_count": 32,
   "metadata": {},
   "outputs": [
    {
     "name": "stdout",
     "output_type": "stream",
     "text": [
      "1\n",
      "3\n",
      "3\n",
      "4\n",
      "4\n",
      "4\n",
      "7\n",
      "7\n",
      "9\n",
      "9\n",
      "9\n",
      "10\n",
      "10\n",
      "10\n",
      "10\n",
      "11\n",
      "11\n",
      "13\n",
      "13\n",
      "16\n",
      "16\n",
      "16\n",
      "16\n",
      "16\n",
      "43\n",
      "43\n"
     ]
    }
   ],
   "source": [
    "squared_primes(array)"
   ]
  },
  {
   "cell_type": "markdown",
   "metadata": {},
   "source": [
    "# python 標準ライブラリ collections\n",
    "<center>\n",
    "<h3>Counter は dict(辞書型)の sub class で Key(要素) : value(出現回数) という形のdataを持つ</h3>\n",
    "</center>\n",
    "\n",
    "- 参考サイト\n",
    "\n",
    "> [Python標準ライブラリcollections](https://note.nkmk.me/python-collections-counter/)\n",
    "\n",
    "- python document site\n",
    "\n",
    "> [collections --- コンテナデータ型](https://docs.python.org/ja/3/library/collections.html#collections.Counter)\n",
    "\n"
   ]
  },
  {
   "cell_type": "code",
   "execution_count": 33,
   "metadata": {},
   "outputs": [],
   "source": [
    "from collections import Counter"
   ]
  },
  {
   "cell_type": "code",
   "execution_count": 34,
   "metadata": {},
   "outputs": [],
   "source": [
    "array = [1, 3, 4, 7, 9, 10, 11, 13, 16, 43]\n",
    "def squared_primes(array):\n",
    "    \n",
    "    prime = []\n",
    "    \n",
    "    for i in array:\n",
    "        m = max(array)+1\n",
    "        for j in range(1,m):\n",
    "            if i % j == 0:\n",
    "                prime.append(i)\n",
    "    print(Counter(prime))"
   ]
  },
  {
   "cell_type": "code",
   "execution_count": 35,
   "metadata": {},
   "outputs": [
    {
     "name": "stdout",
     "output_type": "stream",
     "text": [
      "Counter({16: 5, 10: 4, 4: 3, 9: 3, 3: 2, 7: 2, 11: 2, 13: 2, 43: 2, 1: 1})\n"
     ]
    }
   ],
   "source": [
    "squared_primes(array)"
   ]
  },
  {
   "cell_type": "code",
   "execution_count": 36,
   "metadata": {},
   "outputs": [
    {
     "name": "stdout",
     "output_type": "stream",
     "text": [
      "[3, 7, 11, 13, 43]\n"
     ]
    }
   ],
   "source": [
    "\n",
    "prime = []\n",
    "\n",
    "for i in array:\n",
    "    m = max(array)+1\n",
    "    for j in range(1,m):\n",
    "        if i % j == 0:\n",
    "            prime.append(i)\n",
    "            c = Counter(prime)\n",
    "print([i for i in c if c[i] == 2])"
   ]
  },
  {
   "cell_type": "code",
   "execution_count": 37,
   "metadata": {},
   "outputs": [],
   "source": [
    "array = [1, 3, 4, 7, 9, 10, 11, 13, 16, 43]\n",
    "\n",
    "def squared_primes(array):\n",
    "    \n",
    "    prime = []\n",
    "\n",
    "    for i in array:\n",
    "        m = max(array)+1\n",
    "        for j in range(1,m):\n",
    "            if i % j == 0:\n",
    "                prime.append(i)\n",
    "                c = Counter(prime)\n",
    "    print([i for i in c if c[i] == 2])"
   ]
  },
  {
   "cell_type": "code",
   "execution_count": 38,
   "metadata": {},
   "outputs": [
    {
     "name": "stdout",
     "output_type": "stream",
     "text": [
      "[3, 7, 11, 13, 43]\n"
     ]
    }
   ],
   "source": [
    "squared_primes(array)"
   ]
  },
  {
   "cell_type": "markdown",
   "metadata": {},
   "source": [
    "## refactoring 完成!!!\n",
    "- arrayに書かれた数値から素数のみ抜き出して、それぞれの素数を2乗して返す"
   ]
  },
  {
   "cell_type": "code",
   "execution_count": 39,
   "metadata": {},
   "outputs": [],
   "source": [
    "array = [1, 3, 4, 7, 9, 10, 11, 13, 16, 43]\n",
    "\n",
    "def squared_primes(array):\n",
    "    \n",
    "    prime = []\n",
    "\n",
    "    for i in array:\n",
    "        m = max(array)+1\n",
    "        for j in range(1,m):\n",
    "            if i % j == 0:\n",
    "                prime.append(i)\n",
    "                c = Counter(prime)\n",
    "                \n",
    "    print([i*i for i in c if c[i] == 2])"
   ]
  },
  {
   "cell_type": "code",
   "execution_count": 40,
   "metadata": {},
   "outputs": [
    {
     "name": "stdout",
     "output_type": "stream",
     "text": [
      "[9, 49, 121, 169, 1849]\n"
     ]
    }
   ],
   "source": [
    "squared_primes(array)"
   ]
  },
  {
   "cell_type": "code",
   "execution_count": 41,
   "metadata": {},
   "outputs": [],
   "source": [
    "from random import sample"
   ]
  },
  {
   "cell_type": "code",
   "execution_count": 42,
   "metadata": {},
   "outputs": [
    {
     "data": {
      "text/plain": [
       "[58, 3, 57, 19, 65, 88, 87, 74, 0, 10]"
      ]
     },
     "execution_count": 42,
     "metadata": {},
     "output_type": "execute_result"
    }
   ],
   "source": [
    "\n",
    "# list の要素が毎回変わる様にする\n",
    "sample(range(0, 100), 10)\n"
   ]
  },
  {
   "cell_type": "code",
   "execution_count": 47,
   "metadata": {},
   "outputs": [],
   "source": [
    "def primes(array):\n",
    "    \n",
    "    prime = []\n",
    "\n",
    "    for i in array:\n",
    "        m = max(array)+1\n",
    "        for j in range(1,m):\n",
    "            if i % j == 0:\n",
    "                prime.append(i)\n",
    "                c = Counter(prime)\n",
    "                \n",
    "    print([i for i in c if c[i] == 2])"
   ]
  },
  {
   "cell_type": "code",
   "execution_count": 48,
   "metadata": {},
   "outputs": [
    {
     "name": "stdout",
     "output_type": "stream",
     "text": [
      "[3, 7, 11, 13, 43]\n"
     ]
    }
   ],
   "source": [
    "primes(array)"
   ]
  },
  {
   "cell_type": "code",
   "execution_count": 49,
   "metadata": {},
   "outputs": [
    {
     "data": {
      "text/plain": [
       "[15, 52, 84, 51, 1, 45, 4, 89, 53, 39]"
      ]
     },
     "execution_count": 49,
     "metadata": {},
     "output_type": "execute_result"
    }
   ],
   "source": [
    "array_r = sample(range(0, 100), 10)\n",
    "array_r"
   ]
  },
  {
   "cell_type": "code",
   "execution_count": 50,
   "metadata": {},
   "outputs": [
    {
     "name": "stdout",
     "output_type": "stream",
     "text": [
      "[89, 53]\n"
     ]
    }
   ],
   "source": [
    "primes(array_r)"
   ]
  },
  {
   "cell_type": "code",
   "execution_count": null,
   "metadata": {},
   "outputs": [],
   "source": []
  }
 ],
 "metadata": {
  "interpreter": {
   "hash": "47dc47d103da982b1e933b8923cef8f585032c2b65a4949907fb888f13080055"
  },
  "kernelspec": {
   "display_name": "Python 3.10.0 64-bit ('venv': venv)",
   "name": "python3"
  },
  "language_info": {
   "codemirror_mode": {
    "name": "ipython",
    "version": 3
   },
   "file_extension": ".py",
   "mimetype": "text/x-python",
   "name": "python",
   "nbconvert_exporter": "python",
   "pygments_lexer": "ipython3",
   "version": "3.10.0"
  },
  "orig_nbformat": 4
 },
 "nbformat": 4,
 "nbformat_minor": 2
}
